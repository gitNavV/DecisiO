{
 "cells": [
  {
   "cell_type": "code",
   "execution_count": 1,
   "metadata": {},
   "outputs": [],
   "source": [
    "import numpy as np\n",
    "import pandas as pd\n",
    "import matplotlib.pyplot as plt"
   ]
  },
  {
   "cell_type": "code",
   "execution_count": 3,
   "metadata": {},
   "outputs": [],
   "source": [
    "data = pd.read_csv('../data_files/random_data/data_cloth.csv')"
   ]
  },
  {
   "cell_type": "code",
   "execution_count": 4,
   "metadata": {},
   "outputs": [
    {
     "data": {
      "text/html": [
       "<div>\n",
       "<style scoped>\n",
       "    .dataframe tbody tr th:only-of-type {\n",
       "        vertical-align: middle;\n",
       "    }\n",
       "\n",
       "    .dataframe tbody tr th {\n",
       "        vertical-align: top;\n",
       "    }\n",
       "\n",
       "    .dataframe thead th {\n",
       "        text-align: right;\n",
       "    }\n",
       "</style>\n",
       "<table border=\"1\" class=\"dataframe\">\n",
       "  <thead>\n",
       "    <tr style=\"text-align: right;\">\n",
       "      <th></th>\n",
       "      <th>Unnamed: 0</th>\n",
       "      <th>cloth</th>\n",
       "      <th>salary</th>\n",
       "      <th>expenditure_pm</th>\n",
       "      <th>relative_time</th>\n",
       "      <th>gender</th>\n",
       "      <th>age</th>\n",
       "      <th>curr_temprature</th>\n",
       "      <th>curr_mood_1</th>\n",
       "      <th>curr_mood_2</th>\n",
       "      <th>...</th>\n",
       "      <th>color_1</th>\n",
       "      <th>color_2</th>\n",
       "      <th>color_3</th>\n",
       "      <th>color_4</th>\n",
       "      <th>color_5</th>\n",
       "      <th>color_6</th>\n",
       "      <th>color_7</th>\n",
       "      <th>color_8</th>\n",
       "      <th>color_9</th>\n",
       "      <th>color_10</th>\n",
       "    </tr>\n",
       "  </thead>\n",
       "  <tbody>\n",
       "    <tr>\n",
       "      <th>0</th>\n",
       "      <td>0</td>\n",
       "      <td>2</td>\n",
       "      <td>3</td>\n",
       "      <td>4</td>\n",
       "      <td>0</td>\n",
       "      <td>0</td>\n",
       "      <td>17</td>\n",
       "      <td>49.965658</td>\n",
       "      <td>1</td>\n",
       "      <td>0</td>\n",
       "      <td>...</td>\n",
       "      <td>1</td>\n",
       "      <td>0</td>\n",
       "      <td>1</td>\n",
       "      <td>0</td>\n",
       "      <td>0</td>\n",
       "      <td>0</td>\n",
       "      <td>1</td>\n",
       "      <td>0</td>\n",
       "      <td>0</td>\n",
       "      <td>0</td>\n",
       "    </tr>\n",
       "    <tr>\n",
       "      <th>1</th>\n",
       "      <td>1</td>\n",
       "      <td>7</td>\n",
       "      <td>0</td>\n",
       "      <td>2</td>\n",
       "      <td>2</td>\n",
       "      <td>1</td>\n",
       "      <td>48</td>\n",
       "      <td>28.222958</td>\n",
       "      <td>1</td>\n",
       "      <td>0</td>\n",
       "      <td>...</td>\n",
       "      <td>1</td>\n",
       "      <td>0</td>\n",
       "      <td>1</td>\n",
       "      <td>0</td>\n",
       "      <td>1</td>\n",
       "      <td>0</td>\n",
       "      <td>1</td>\n",
       "      <td>0</td>\n",
       "      <td>1</td>\n",
       "      <td>0</td>\n",
       "    </tr>\n",
       "    <tr>\n",
       "      <th>2</th>\n",
       "      <td>2</td>\n",
       "      <td>4</td>\n",
       "      <td>2</td>\n",
       "      <td>2</td>\n",
       "      <td>3</td>\n",
       "      <td>0</td>\n",
       "      <td>55</td>\n",
       "      <td>48.033522</td>\n",
       "      <td>1</td>\n",
       "      <td>0</td>\n",
       "      <td>...</td>\n",
       "      <td>1</td>\n",
       "      <td>1</td>\n",
       "      <td>1</td>\n",
       "      <td>1</td>\n",
       "      <td>1</td>\n",
       "      <td>1</td>\n",
       "      <td>1</td>\n",
       "      <td>0</td>\n",
       "      <td>0</td>\n",
       "      <td>1</td>\n",
       "    </tr>\n",
       "    <tr>\n",
       "      <th>3</th>\n",
       "      <td>3</td>\n",
       "      <td>1</td>\n",
       "      <td>1</td>\n",
       "      <td>3</td>\n",
       "      <td>1</td>\n",
       "      <td>0</td>\n",
       "      <td>50</td>\n",
       "      <td>48.758037</td>\n",
       "      <td>1</td>\n",
       "      <td>0</td>\n",
       "      <td>...</td>\n",
       "      <td>1</td>\n",
       "      <td>1</td>\n",
       "      <td>1</td>\n",
       "      <td>1</td>\n",
       "      <td>0</td>\n",
       "      <td>1</td>\n",
       "      <td>0</td>\n",
       "      <td>0</td>\n",
       "      <td>1</td>\n",
       "      <td>1</td>\n",
       "    </tr>\n",
       "    <tr>\n",
       "      <th>4</th>\n",
       "      <td>4</td>\n",
       "      <td>3</td>\n",
       "      <td>0</td>\n",
       "      <td>0</td>\n",
       "      <td>0</td>\n",
       "      <td>1</td>\n",
       "      <td>28</td>\n",
       "      <td>42.151258</td>\n",
       "      <td>0</td>\n",
       "      <td>1</td>\n",
       "      <td>...</td>\n",
       "      <td>1</td>\n",
       "      <td>1</td>\n",
       "      <td>0</td>\n",
       "      <td>1</td>\n",
       "      <td>1</td>\n",
       "      <td>1</td>\n",
       "      <td>0</td>\n",
       "      <td>1</td>\n",
       "      <td>0</td>\n",
       "      <td>0</td>\n",
       "    </tr>\n",
       "  </tbody>\n",
       "</table>\n",
       "<p>5 rows × 52 columns</p>\n",
       "</div>"
      ],
      "text/plain": [
       "   Unnamed: 0  cloth  salary  expenditure_pm  relative_time  gender  age  \\\n",
       "0           0      2       3               4              0       0   17   \n",
       "1           1      7       0               2              2       1   48   \n",
       "2           2      4       2               2              3       0   55   \n",
       "3           3      1       1               3              1       0   50   \n",
       "4           4      3       0               0              0       1   28   \n",
       "\n",
       "   curr_temprature  curr_mood_1  curr_mood_2  ...  color_1  color_2  color_3  \\\n",
       "0        49.965658            1            0  ...        1        0        1   \n",
       "1        28.222958            1            0  ...        1        0        1   \n",
       "2        48.033522            1            0  ...        1        1        1   \n",
       "3        48.758037            1            0  ...        1        1        1   \n",
       "4        42.151258            0            1  ...        1        1        0   \n",
       "\n",
       "   color_4  color_5  color_6  color_7  color_8  color_9  color_10  \n",
       "0        0        0        0        1        0        0         0  \n",
       "1        0        1        0        1        0        1         0  \n",
       "2        1        1        1        1        0        0         1  \n",
       "3        1        0        1        0        0        1         1  \n",
       "4        1        1        1        0        1        0         0  \n",
       "\n",
       "[5 rows x 52 columns]"
      ]
     },
     "execution_count": 4,
     "metadata": {},
     "output_type": "execute_result"
    }
   ],
   "source": [
    "data.head()"
   ]
  },
  {
   "cell_type": "code",
   "execution_count": 5,
   "metadata": {},
   "outputs": [
    {
     "data": {
      "text/plain": [
       "Index(['Unnamed: 0', 'cloth', 'salary', 'expenditure_pm', 'relative_time',\n",
       "       'gender', 'age', 'curr_temprature', 'curr_mood_1', 'curr_mood_2',\n",
       "       'curr_mood_3', 'curr_mood_4', 'curr_mood_5', 'curr_mood_6',\n",
       "       'curr_mood_7', 'curr_mood_8', 'weather_1', 'weather_2', 'weather_3',\n",
       "       'weather_4', 'employed', 'student', 'artist_1', 'artist_2', 'artist_3',\n",
       "       'artist_4', 'artist_5', 'artist_6', 'artist_7', 'artist_8', 'artist_9',\n",
       "       'artist_10', 'artist_11', 'artist_12', 'artist_13', 'artist_14',\n",
       "       'artist_15', 'clt_mat_1', 'clt_mat_2', 'clt_mat_3', 'clt_mat_4',\n",
       "       'clt_mat_5', 'color_1', 'color_2', 'color_3', 'color_4', 'color_5',\n",
       "       'color_6', 'color_7', 'color_8', 'color_9', 'color_10'],\n",
       "      dtype='object')"
      ]
     },
     "execution_count": 5,
     "metadata": {},
     "output_type": "execute_result"
    }
   ],
   "source": [
    "data.columns"
   ]
  },
  {
   "cell_type": "code",
   "execution_count": 6,
   "metadata": {},
   "outputs": [],
   "source": [
    "data = data.drop(['Unnamed: 0'],axis = 1)"
   ]
  },
  {
   "cell_type": "code",
   "execution_count": 7,
   "metadata": {},
   "outputs": [
    {
     "data": {
      "text/html": [
       "<div>\n",
       "<style scoped>\n",
       "    .dataframe tbody tr th:only-of-type {\n",
       "        vertical-align: middle;\n",
       "    }\n",
       "\n",
       "    .dataframe tbody tr th {\n",
       "        vertical-align: top;\n",
       "    }\n",
       "\n",
       "    .dataframe thead th {\n",
       "        text-align: right;\n",
       "    }\n",
       "</style>\n",
       "<table border=\"1\" class=\"dataframe\">\n",
       "  <thead>\n",
       "    <tr style=\"text-align: right;\">\n",
       "      <th></th>\n",
       "      <th>cloth</th>\n",
       "      <th>salary</th>\n",
       "      <th>expenditure_pm</th>\n",
       "      <th>relative_time</th>\n",
       "      <th>gender</th>\n",
       "      <th>age</th>\n",
       "      <th>curr_temprature</th>\n",
       "      <th>curr_mood_1</th>\n",
       "      <th>curr_mood_2</th>\n",
       "      <th>curr_mood_3</th>\n",
       "      <th>...</th>\n",
       "      <th>color_1</th>\n",
       "      <th>color_2</th>\n",
       "      <th>color_3</th>\n",
       "      <th>color_4</th>\n",
       "      <th>color_5</th>\n",
       "      <th>color_6</th>\n",
       "      <th>color_7</th>\n",
       "      <th>color_8</th>\n",
       "      <th>color_9</th>\n",
       "      <th>color_10</th>\n",
       "    </tr>\n",
       "  </thead>\n",
       "  <tbody>\n",
       "    <tr>\n",
       "      <th>0</th>\n",
       "      <td>2</td>\n",
       "      <td>3</td>\n",
       "      <td>4</td>\n",
       "      <td>0</td>\n",
       "      <td>0</td>\n",
       "      <td>17</td>\n",
       "      <td>49.965658</td>\n",
       "      <td>1</td>\n",
       "      <td>0</td>\n",
       "      <td>0</td>\n",
       "      <td>...</td>\n",
       "      <td>1</td>\n",
       "      <td>0</td>\n",
       "      <td>1</td>\n",
       "      <td>0</td>\n",
       "      <td>0</td>\n",
       "      <td>0</td>\n",
       "      <td>1</td>\n",
       "      <td>0</td>\n",
       "      <td>0</td>\n",
       "      <td>0</td>\n",
       "    </tr>\n",
       "    <tr>\n",
       "      <th>1</th>\n",
       "      <td>7</td>\n",
       "      <td>0</td>\n",
       "      <td>2</td>\n",
       "      <td>2</td>\n",
       "      <td>1</td>\n",
       "      <td>48</td>\n",
       "      <td>28.222958</td>\n",
       "      <td>1</td>\n",
       "      <td>0</td>\n",
       "      <td>0</td>\n",
       "      <td>...</td>\n",
       "      <td>1</td>\n",
       "      <td>0</td>\n",
       "      <td>1</td>\n",
       "      <td>0</td>\n",
       "      <td>1</td>\n",
       "      <td>0</td>\n",
       "      <td>1</td>\n",
       "      <td>0</td>\n",
       "      <td>1</td>\n",
       "      <td>0</td>\n",
       "    </tr>\n",
       "    <tr>\n",
       "      <th>2</th>\n",
       "      <td>4</td>\n",
       "      <td>2</td>\n",
       "      <td>2</td>\n",
       "      <td>3</td>\n",
       "      <td>0</td>\n",
       "      <td>55</td>\n",
       "      <td>48.033522</td>\n",
       "      <td>1</td>\n",
       "      <td>0</td>\n",
       "      <td>0</td>\n",
       "      <td>...</td>\n",
       "      <td>1</td>\n",
       "      <td>1</td>\n",
       "      <td>1</td>\n",
       "      <td>1</td>\n",
       "      <td>1</td>\n",
       "      <td>1</td>\n",
       "      <td>1</td>\n",
       "      <td>0</td>\n",
       "      <td>0</td>\n",
       "      <td>1</td>\n",
       "    </tr>\n",
       "    <tr>\n",
       "      <th>3</th>\n",
       "      <td>1</td>\n",
       "      <td>1</td>\n",
       "      <td>3</td>\n",
       "      <td>1</td>\n",
       "      <td>0</td>\n",
       "      <td>50</td>\n",
       "      <td>48.758037</td>\n",
       "      <td>1</td>\n",
       "      <td>0</td>\n",
       "      <td>0</td>\n",
       "      <td>...</td>\n",
       "      <td>1</td>\n",
       "      <td>1</td>\n",
       "      <td>1</td>\n",
       "      <td>1</td>\n",
       "      <td>0</td>\n",
       "      <td>1</td>\n",
       "      <td>0</td>\n",
       "      <td>0</td>\n",
       "      <td>1</td>\n",
       "      <td>1</td>\n",
       "    </tr>\n",
       "    <tr>\n",
       "      <th>4</th>\n",
       "      <td>3</td>\n",
       "      <td>0</td>\n",
       "      <td>0</td>\n",
       "      <td>0</td>\n",
       "      <td>1</td>\n",
       "      <td>28</td>\n",
       "      <td>42.151258</td>\n",
       "      <td>0</td>\n",
       "      <td>1</td>\n",
       "      <td>1</td>\n",
       "      <td>...</td>\n",
       "      <td>1</td>\n",
       "      <td>1</td>\n",
       "      <td>0</td>\n",
       "      <td>1</td>\n",
       "      <td>1</td>\n",
       "      <td>1</td>\n",
       "      <td>0</td>\n",
       "      <td>1</td>\n",
       "      <td>0</td>\n",
       "      <td>0</td>\n",
       "    </tr>\n",
       "  </tbody>\n",
       "</table>\n",
       "<p>5 rows × 51 columns</p>\n",
       "</div>"
      ],
      "text/plain": [
       "   cloth  salary  expenditure_pm  relative_time  gender  age  curr_temprature  \\\n",
       "0      2       3               4              0       0   17        49.965658   \n",
       "1      7       0               2              2       1   48        28.222958   \n",
       "2      4       2               2              3       0   55        48.033522   \n",
       "3      1       1               3              1       0   50        48.758037   \n",
       "4      3       0               0              0       1   28        42.151258   \n",
       "\n",
       "   curr_mood_1  curr_mood_2  curr_mood_3  ...  color_1  color_2  color_3  \\\n",
       "0            1            0            0  ...        1        0        1   \n",
       "1            1            0            0  ...        1        0        1   \n",
       "2            1            0            0  ...        1        1        1   \n",
       "3            1            0            0  ...        1        1        1   \n",
       "4            0            1            1  ...        1        1        0   \n",
       "\n",
       "   color_4  color_5  color_6  color_7  color_8  color_9  color_10  \n",
       "0        0        0        0        1        0        0         0  \n",
       "1        0        1        0        1        0        1         0  \n",
       "2        1        1        1        1        0        0         1  \n",
       "3        1        0        1        0        0        1         1  \n",
       "4        1        1        1        0        1        0         0  \n",
       "\n",
       "[5 rows x 51 columns]"
      ]
     },
     "execution_count": 7,
     "metadata": {},
     "output_type": "execute_result"
    }
   ],
   "source": [
    "data.head()"
   ]
  },
  {
   "cell_type": "code",
   "execution_count": 8,
   "metadata": {},
   "outputs": [],
   "source": [
    "X = data.iloc[:,1:]\n",
    "Y = data.iloc[:,0]"
   ]
  },
  {
   "cell_type": "code",
   "execution_count": 9,
   "metadata": {},
   "outputs": [
    {
     "data": {
      "text/html": [
       "<div>\n",
       "<style scoped>\n",
       "    .dataframe tbody tr th:only-of-type {\n",
       "        vertical-align: middle;\n",
       "    }\n",
       "\n",
       "    .dataframe tbody tr th {\n",
       "        vertical-align: top;\n",
       "    }\n",
       "\n",
       "    .dataframe thead th {\n",
       "        text-align: right;\n",
       "    }\n",
       "</style>\n",
       "<table border=\"1\" class=\"dataframe\">\n",
       "  <thead>\n",
       "    <tr style=\"text-align: right;\">\n",
       "      <th></th>\n",
       "      <th>salary</th>\n",
       "      <th>expenditure_pm</th>\n",
       "      <th>relative_time</th>\n",
       "      <th>gender</th>\n",
       "      <th>age</th>\n",
       "      <th>curr_temprature</th>\n",
       "      <th>curr_mood_1</th>\n",
       "      <th>curr_mood_2</th>\n",
       "      <th>curr_mood_3</th>\n",
       "      <th>curr_mood_4</th>\n",
       "      <th>...</th>\n",
       "      <th>color_1</th>\n",
       "      <th>color_2</th>\n",
       "      <th>color_3</th>\n",
       "      <th>color_4</th>\n",
       "      <th>color_5</th>\n",
       "      <th>color_6</th>\n",
       "      <th>color_7</th>\n",
       "      <th>color_8</th>\n",
       "      <th>color_9</th>\n",
       "      <th>color_10</th>\n",
       "    </tr>\n",
       "  </thead>\n",
       "  <tbody>\n",
       "    <tr>\n",
       "      <th>0</th>\n",
       "      <td>3</td>\n",
       "      <td>4</td>\n",
       "      <td>0</td>\n",
       "      <td>0</td>\n",
       "      <td>17</td>\n",
       "      <td>49.965658</td>\n",
       "      <td>1</td>\n",
       "      <td>0</td>\n",
       "      <td>0</td>\n",
       "      <td>0</td>\n",
       "      <td>...</td>\n",
       "      <td>1</td>\n",
       "      <td>0</td>\n",
       "      <td>1</td>\n",
       "      <td>0</td>\n",
       "      <td>0</td>\n",
       "      <td>0</td>\n",
       "      <td>1</td>\n",
       "      <td>0</td>\n",
       "      <td>0</td>\n",
       "      <td>0</td>\n",
       "    </tr>\n",
       "    <tr>\n",
       "      <th>1</th>\n",
       "      <td>0</td>\n",
       "      <td>2</td>\n",
       "      <td>2</td>\n",
       "      <td>1</td>\n",
       "      <td>48</td>\n",
       "      <td>28.222958</td>\n",
       "      <td>1</td>\n",
       "      <td>0</td>\n",
       "      <td>0</td>\n",
       "      <td>0</td>\n",
       "      <td>...</td>\n",
       "      <td>1</td>\n",
       "      <td>0</td>\n",
       "      <td>1</td>\n",
       "      <td>0</td>\n",
       "      <td>1</td>\n",
       "      <td>0</td>\n",
       "      <td>1</td>\n",
       "      <td>0</td>\n",
       "      <td>1</td>\n",
       "      <td>0</td>\n",
       "    </tr>\n",
       "    <tr>\n",
       "      <th>2</th>\n",
       "      <td>2</td>\n",
       "      <td>2</td>\n",
       "      <td>3</td>\n",
       "      <td>0</td>\n",
       "      <td>55</td>\n",
       "      <td>48.033522</td>\n",
       "      <td>1</td>\n",
       "      <td>0</td>\n",
       "      <td>0</td>\n",
       "      <td>1</td>\n",
       "      <td>...</td>\n",
       "      <td>1</td>\n",
       "      <td>1</td>\n",
       "      <td>1</td>\n",
       "      <td>1</td>\n",
       "      <td>1</td>\n",
       "      <td>1</td>\n",
       "      <td>1</td>\n",
       "      <td>0</td>\n",
       "      <td>0</td>\n",
       "      <td>1</td>\n",
       "    </tr>\n",
       "    <tr>\n",
       "      <th>3</th>\n",
       "      <td>1</td>\n",
       "      <td>3</td>\n",
       "      <td>1</td>\n",
       "      <td>0</td>\n",
       "      <td>50</td>\n",
       "      <td>48.758037</td>\n",
       "      <td>1</td>\n",
       "      <td>0</td>\n",
       "      <td>0</td>\n",
       "      <td>0</td>\n",
       "      <td>...</td>\n",
       "      <td>1</td>\n",
       "      <td>1</td>\n",
       "      <td>1</td>\n",
       "      <td>1</td>\n",
       "      <td>0</td>\n",
       "      <td>1</td>\n",
       "      <td>0</td>\n",
       "      <td>0</td>\n",
       "      <td>1</td>\n",
       "      <td>1</td>\n",
       "    </tr>\n",
       "    <tr>\n",
       "      <th>4</th>\n",
       "      <td>0</td>\n",
       "      <td>0</td>\n",
       "      <td>0</td>\n",
       "      <td>1</td>\n",
       "      <td>28</td>\n",
       "      <td>42.151258</td>\n",
       "      <td>0</td>\n",
       "      <td>1</td>\n",
       "      <td>1</td>\n",
       "      <td>1</td>\n",
       "      <td>...</td>\n",
       "      <td>1</td>\n",
       "      <td>1</td>\n",
       "      <td>0</td>\n",
       "      <td>1</td>\n",
       "      <td>1</td>\n",
       "      <td>1</td>\n",
       "      <td>0</td>\n",
       "      <td>1</td>\n",
       "      <td>0</td>\n",
       "      <td>0</td>\n",
       "    </tr>\n",
       "  </tbody>\n",
       "</table>\n",
       "<p>5 rows × 50 columns</p>\n",
       "</div>"
      ],
      "text/plain": [
       "   salary  expenditure_pm  relative_time  gender  age  curr_temprature  \\\n",
       "0       3               4              0       0   17        49.965658   \n",
       "1       0               2              2       1   48        28.222958   \n",
       "2       2               2              3       0   55        48.033522   \n",
       "3       1               3              1       0   50        48.758037   \n",
       "4       0               0              0       1   28        42.151258   \n",
       "\n",
       "   curr_mood_1  curr_mood_2  curr_mood_3  curr_mood_4  ...  color_1  color_2  \\\n",
       "0            1            0            0            0  ...        1        0   \n",
       "1            1            0            0            0  ...        1        0   \n",
       "2            1            0            0            1  ...        1        1   \n",
       "3            1            0            0            0  ...        1        1   \n",
       "4            0            1            1            1  ...        1        1   \n",
       "\n",
       "   color_3  color_4  color_5  color_6  color_7  color_8  color_9  color_10  \n",
       "0        1        0        0        0        1        0        0         0  \n",
       "1        1        0        1        0        1        0        1         0  \n",
       "2        1        1        1        1        1        0        0         1  \n",
       "3        1        1        0        1        0        0        1         1  \n",
       "4        0        1        1        1        0        1        0         0  \n",
       "\n",
       "[5 rows x 50 columns]"
      ]
     },
     "execution_count": 9,
     "metadata": {},
     "output_type": "execute_result"
    }
   ],
   "source": [
    "X.head()"
   ]
  },
  {
   "cell_type": "code",
   "execution_count": 10,
   "metadata": {},
   "outputs": [
    {
     "data": {
      "text/plain": [
       "0    2\n",
       "1    7\n",
       "2    4\n",
       "3    1\n",
       "4    3\n",
       "Name: cloth, dtype: int64"
      ]
     },
     "execution_count": 10,
     "metadata": {},
     "output_type": "execute_result"
    }
   ],
   "source": [
    "Y.head()"
   ]
  },
  {
   "cell_type": "code",
   "execution_count": 11,
   "metadata": {},
   "outputs": [
    {
     "data": {
      "text/plain": [
       "Index(['salary', 'expenditure_pm', 'relative_time', 'gender', 'age',\n",
       "       'curr_temprature', 'curr_mood_1', 'curr_mood_2', 'curr_mood_3',\n",
       "       'curr_mood_4', 'curr_mood_5', 'curr_mood_6', 'curr_mood_7',\n",
       "       'curr_mood_8', 'weather_1', 'weather_2', 'weather_3', 'weather_4',\n",
       "       'employed', 'student', 'artist_1', 'artist_2', 'artist_3', 'artist_4',\n",
       "       'artist_5', 'artist_6', 'artist_7', 'artist_8', 'artist_9', 'artist_10',\n",
       "       'artist_11', 'artist_12', 'artist_13', 'artist_14', 'artist_15',\n",
       "       'clt_mat_1', 'clt_mat_2', 'clt_mat_3', 'clt_mat_4', 'clt_mat_5',\n",
       "       'color_1', 'color_2', 'color_3', 'color_4', 'color_5', 'color_6',\n",
       "       'color_7', 'color_8', 'color_9', 'color_10'],\n",
       "      dtype='object')"
      ]
     },
     "execution_count": 11,
     "metadata": {},
     "output_type": "execute_result"
    }
   ],
   "source": [
    "X.columns"
   ]
  },
  {
   "cell_type": "code",
   "execution_count": 12,
   "metadata": {},
   "outputs": [
    {
     "data": {
      "text/html": [
       "<div>\n",
       "<style scoped>\n",
       "    .dataframe tbody tr th:only-of-type {\n",
       "        vertical-align: middle;\n",
       "    }\n",
       "\n",
       "    .dataframe tbody tr th {\n",
       "        vertical-align: top;\n",
       "    }\n",
       "\n",
       "    .dataframe thead th {\n",
       "        text-align: right;\n",
       "    }\n",
       "</style>\n",
       "<table border=\"1\" class=\"dataframe\">\n",
       "  <thead>\n",
       "    <tr style=\"text-align: right;\">\n",
       "      <th></th>\n",
       "      <th>salary</th>\n",
       "      <th>expenditure_pm</th>\n",
       "      <th>relative_time</th>\n",
       "      <th>gender</th>\n",
       "      <th>age</th>\n",
       "      <th>curr_temprature</th>\n",
       "      <th>curr_mood_1</th>\n",
       "      <th>curr_mood_2</th>\n",
       "      <th>curr_mood_3</th>\n",
       "      <th>curr_mood_4</th>\n",
       "      <th>...</th>\n",
       "      <th>color_1</th>\n",
       "      <th>color_2</th>\n",
       "      <th>color_3</th>\n",
       "      <th>color_4</th>\n",
       "      <th>color_5</th>\n",
       "      <th>color_6</th>\n",
       "      <th>color_7</th>\n",
       "      <th>color_8</th>\n",
       "      <th>color_9</th>\n",
       "      <th>color_10</th>\n",
       "    </tr>\n",
       "  </thead>\n",
       "  <tbody>\n",
       "    <tr>\n",
       "      <th>0</th>\n",
       "      <td>3</td>\n",
       "      <td>4</td>\n",
       "      <td>0</td>\n",
       "      <td>0</td>\n",
       "      <td>17</td>\n",
       "      <td>49.965658</td>\n",
       "      <td>1</td>\n",
       "      <td>0</td>\n",
       "      <td>0</td>\n",
       "      <td>0</td>\n",
       "      <td>...</td>\n",
       "      <td>1</td>\n",
       "      <td>0</td>\n",
       "      <td>1</td>\n",
       "      <td>0</td>\n",
       "      <td>0</td>\n",
       "      <td>0</td>\n",
       "      <td>1</td>\n",
       "      <td>0</td>\n",
       "      <td>0</td>\n",
       "      <td>0</td>\n",
       "    </tr>\n",
       "    <tr>\n",
       "      <th>1</th>\n",
       "      <td>0</td>\n",
       "      <td>2</td>\n",
       "      <td>2</td>\n",
       "      <td>1</td>\n",
       "      <td>48</td>\n",
       "      <td>28.222958</td>\n",
       "      <td>1</td>\n",
       "      <td>0</td>\n",
       "      <td>0</td>\n",
       "      <td>0</td>\n",
       "      <td>...</td>\n",
       "      <td>1</td>\n",
       "      <td>0</td>\n",
       "      <td>1</td>\n",
       "      <td>0</td>\n",
       "      <td>1</td>\n",
       "      <td>0</td>\n",
       "      <td>1</td>\n",
       "      <td>0</td>\n",
       "      <td>1</td>\n",
       "      <td>0</td>\n",
       "    </tr>\n",
       "    <tr>\n",
       "      <th>2</th>\n",
       "      <td>2</td>\n",
       "      <td>2</td>\n",
       "      <td>3</td>\n",
       "      <td>0</td>\n",
       "      <td>55</td>\n",
       "      <td>48.033522</td>\n",
       "      <td>1</td>\n",
       "      <td>0</td>\n",
       "      <td>0</td>\n",
       "      <td>1</td>\n",
       "      <td>...</td>\n",
       "      <td>1</td>\n",
       "      <td>1</td>\n",
       "      <td>1</td>\n",
       "      <td>1</td>\n",
       "      <td>1</td>\n",
       "      <td>1</td>\n",
       "      <td>1</td>\n",
       "      <td>0</td>\n",
       "      <td>0</td>\n",
       "      <td>1</td>\n",
       "    </tr>\n",
       "    <tr>\n",
       "      <th>3</th>\n",
       "      <td>1</td>\n",
       "      <td>3</td>\n",
       "      <td>1</td>\n",
       "      <td>0</td>\n",
       "      <td>50</td>\n",
       "      <td>48.758037</td>\n",
       "      <td>1</td>\n",
       "      <td>0</td>\n",
       "      <td>0</td>\n",
       "      <td>0</td>\n",
       "      <td>...</td>\n",
       "      <td>1</td>\n",
       "      <td>1</td>\n",
       "      <td>1</td>\n",
       "      <td>1</td>\n",
       "      <td>0</td>\n",
       "      <td>1</td>\n",
       "      <td>0</td>\n",
       "      <td>0</td>\n",
       "      <td>1</td>\n",
       "      <td>1</td>\n",
       "    </tr>\n",
       "    <tr>\n",
       "      <th>4</th>\n",
       "      <td>0</td>\n",
       "      <td>0</td>\n",
       "      <td>0</td>\n",
       "      <td>1</td>\n",
       "      <td>28</td>\n",
       "      <td>42.151258</td>\n",
       "      <td>0</td>\n",
       "      <td>1</td>\n",
       "      <td>1</td>\n",
       "      <td>1</td>\n",
       "      <td>...</td>\n",
       "      <td>1</td>\n",
       "      <td>1</td>\n",
       "      <td>0</td>\n",
       "      <td>1</td>\n",
       "      <td>1</td>\n",
       "      <td>1</td>\n",
       "      <td>0</td>\n",
       "      <td>1</td>\n",
       "      <td>0</td>\n",
       "      <td>0</td>\n",
       "    </tr>\n",
       "  </tbody>\n",
       "</table>\n",
       "<p>5 rows × 50 columns</p>\n",
       "</div>"
      ],
      "text/plain": [
       "   salary  expenditure_pm  relative_time  gender  age  curr_temprature  \\\n",
       "0       3               4              0       0   17        49.965658   \n",
       "1       0               2              2       1   48        28.222958   \n",
       "2       2               2              3       0   55        48.033522   \n",
       "3       1               3              1       0   50        48.758037   \n",
       "4       0               0              0       1   28        42.151258   \n",
       "\n",
       "   curr_mood_1  curr_mood_2  curr_mood_3  curr_mood_4  ...  color_1  color_2  \\\n",
       "0            1            0            0            0  ...        1        0   \n",
       "1            1            0            0            0  ...        1        0   \n",
       "2            1            0            0            1  ...        1        1   \n",
       "3            1            0            0            0  ...        1        1   \n",
       "4            0            1            1            1  ...        1        1   \n",
       "\n",
       "   color_3  color_4  color_5  color_6  color_7  color_8  color_9  color_10  \n",
       "0        1        0        0        0        1        0        0         0  \n",
       "1        1        0        1        0        1        0        1         0  \n",
       "2        1        1        1        1        1        0        0         1  \n",
       "3        1        1        0        1        0        0        1         1  \n",
       "4        0        1        1        1        0        1        0         0  \n",
       "\n",
       "[5 rows x 50 columns]"
      ]
     },
     "execution_count": 12,
     "metadata": {},
     "output_type": "execute_result"
    }
   ],
   "source": [
    "X.head()"
   ]
  },
  {
   "cell_type": "code",
   "execution_count": 13,
   "metadata": {},
   "outputs": [],
   "source": [
    "X = pd.concat([X,pd.get_dummies(X['salary'],prefix='salary')],axis=1)\n",
    "X.drop(['salary'],axis=1, inplace=True)"
   ]
  },
  {
   "cell_type": "code",
   "execution_count": 14,
   "metadata": {},
   "outputs": [
    {
     "data": {
      "text/plain": [
       "Index(['expenditure_pm', 'relative_time', 'gender', 'age', 'curr_temprature',\n",
       "       'curr_mood_1', 'curr_mood_2', 'curr_mood_3', 'curr_mood_4',\n",
       "       'curr_mood_5', 'curr_mood_6', 'curr_mood_7', 'curr_mood_8', 'weather_1',\n",
       "       'weather_2', 'weather_3', 'weather_4', 'employed', 'student',\n",
       "       'artist_1', 'artist_2', 'artist_3', 'artist_4', 'artist_5', 'artist_6',\n",
       "       'artist_7', 'artist_8', 'artist_9', 'artist_10', 'artist_11',\n",
       "       'artist_12', 'artist_13', 'artist_14', 'artist_15', 'clt_mat_1',\n",
       "       'clt_mat_2', 'clt_mat_3', 'clt_mat_4', 'clt_mat_5', 'color_1',\n",
       "       'color_2', 'color_3', 'color_4', 'color_5', 'color_6', 'color_7',\n",
       "       'color_8', 'color_9', 'color_10', 'salary_0', 'salary_1', 'salary_2',\n",
       "       'salary_3'],\n",
       "      dtype='object')"
      ]
     },
     "execution_count": 14,
     "metadata": {},
     "output_type": "execute_result"
    }
   ],
   "source": [
    "X.columns"
   ]
  },
  {
   "cell_type": "code",
   "execution_count": 15,
   "metadata": {},
   "outputs": [],
   "source": [
    "X = pd.concat([X,pd.get_dummies(X['expenditure_pm'],prefix='expenditure_pm')],axis=1)\n",
    "X.drop(['expenditure_pm'],axis=1, inplace=True)"
   ]
  },
  {
   "cell_type": "code",
   "execution_count": 16,
   "metadata": {},
   "outputs": [
    {
     "data": {
      "text/plain": [
       "Index(['relative_time', 'gender', 'age', 'curr_temprature', 'curr_mood_1',\n",
       "       'curr_mood_2', 'curr_mood_3', 'curr_mood_4', 'curr_mood_5',\n",
       "       'curr_mood_6', 'curr_mood_7', 'curr_mood_8', 'weather_1', 'weather_2',\n",
       "       'weather_3', 'weather_4', 'employed', 'student', 'artist_1', 'artist_2',\n",
       "       'artist_3', 'artist_4', 'artist_5', 'artist_6', 'artist_7', 'artist_8',\n",
       "       'artist_9', 'artist_10', 'artist_11', 'artist_12', 'artist_13',\n",
       "       'artist_14', 'artist_15', 'clt_mat_1', 'clt_mat_2', 'clt_mat_3',\n",
       "       'clt_mat_4', 'clt_mat_5', 'color_1', 'color_2', 'color_3', 'color_4',\n",
       "       'color_5', 'color_6', 'color_7', 'color_8', 'color_9', 'color_10',\n",
       "       'salary_0', 'salary_1', 'salary_2', 'salary_3', 'expenditure_pm_0',\n",
       "       'expenditure_pm_1', 'expenditure_pm_2', 'expenditure_pm_3',\n",
       "       'expenditure_pm_4'],\n",
       "      dtype='object')"
      ]
     },
     "execution_count": 16,
     "metadata": {},
     "output_type": "execute_result"
    }
   ],
   "source": [
    "X.columns"
   ]
  },
  {
   "cell_type": "code",
   "execution_count": 17,
   "metadata": {},
   "outputs": [],
   "source": [
    "X = pd.concat([X,pd.get_dummies(X['relative_time'],prefix='relative_time')],axis=1)\n",
    "X.drop(['relative_time'],axis=1, inplace=True)"
   ]
  },
  {
   "cell_type": "code",
   "execution_count": 18,
   "metadata": {},
   "outputs": [
    {
     "data": {
      "text/plain": [
       "Index(['gender', 'age', 'curr_temprature', 'curr_mood_1', 'curr_mood_2',\n",
       "       'curr_mood_3', 'curr_mood_4', 'curr_mood_5', 'curr_mood_6',\n",
       "       'curr_mood_7', 'curr_mood_8', 'weather_1', 'weather_2', 'weather_3',\n",
       "       'weather_4', 'employed', 'student', 'artist_1', 'artist_2', 'artist_3',\n",
       "       'artist_4', 'artist_5', 'artist_6', 'artist_7', 'artist_8', 'artist_9',\n",
       "       'artist_10', 'artist_11', 'artist_12', 'artist_13', 'artist_14',\n",
       "       'artist_15', 'clt_mat_1', 'clt_mat_2', 'clt_mat_3', 'clt_mat_4',\n",
       "       'clt_mat_5', 'color_1', 'color_2', 'color_3', 'color_4', 'color_5',\n",
       "       'color_6', 'color_7', 'color_8', 'color_9', 'color_10', 'salary_0',\n",
       "       'salary_1', 'salary_2', 'salary_3', 'expenditure_pm_0',\n",
       "       'expenditure_pm_1', 'expenditure_pm_2', 'expenditure_pm_3',\n",
       "       'expenditure_pm_4', 'relative_time_0', 'relative_time_1',\n",
       "       'relative_time_2', 'relative_time_3'],\n",
       "      dtype='object')"
      ]
     },
     "execution_count": 18,
     "metadata": {},
     "output_type": "execute_result"
    }
   ],
   "source": [
    "X.columns"
   ]
  },
  {
   "cell_type": "code",
   "execution_count": 19,
   "metadata": {},
   "outputs": [
    {
     "data": {
      "text/plain": [
       "(5000, 60)"
      ]
     },
     "execution_count": 19,
     "metadata": {},
     "output_type": "execute_result"
    }
   ],
   "source": [
    "X.shape"
   ]
  },
  {
   "cell_type": "code",
   "execution_count": 20,
   "metadata": {},
   "outputs": [
    {
     "data": {
      "text/plain": [
       "(5000,)"
      ]
     },
     "execution_count": 20,
     "metadata": {},
     "output_type": "execute_result"
    }
   ],
   "source": [
    "Y.shape"
   ]
  },
  {
   "cell_type": "code",
   "execution_count": 21,
   "metadata": {},
   "outputs": [],
   "source": [
    "from sklearn.datasets import make_classification\n",
    "X1, Y1 = make_classification(n_samples=5000,\n",
    "                             n_features=60, \n",
    "                             n_redundant=0,n_classes=10,\n",
    "                             n_informative=60)"
   ]
  },
  {
   "cell_type": "code",
   "execution_count": 22,
   "metadata": {},
   "outputs": [],
   "source": [
    "X_synthetic = pd.DataFrame(data=X1,columns=X.columns)"
   ]
  },
  {
   "cell_type": "code",
   "execution_count": 37,
   "metadata": {},
   "outputs": [],
   "source": [
    "Y_synthetic = pd.DataFrame(data=Y1,columns=['cloth'])"
   ]
  },
  {
   "cell_type": "code",
   "execution_count": 38,
   "metadata": {},
   "outputs": [],
   "source": [
    "data_cloth_synthetic = pd.concat([Y_synthetic,X_synthetic],axis=1)"
   ]
  },
  {
   "cell_type": "code",
   "execution_count": 39,
   "metadata": {},
   "outputs": [
    {
     "name": "stdout",
     "output_type": "stream",
     "text": [
      "<class 'pandas.core.frame.DataFrame'>\n",
      "RangeIndex: 5000 entries, 0 to 4999\n",
      "Data columns (total 61 columns):\n",
      "cloth               5000 non-null int64\n",
      "gender              5000 non-null float64\n",
      "age                 5000 non-null float64\n",
      "curr_temprature     5000 non-null float64\n",
      "curr_mood_1         5000 non-null float64\n",
      "curr_mood_2         5000 non-null float64\n",
      "curr_mood_3         5000 non-null float64\n",
      "curr_mood_4         5000 non-null float64\n",
      "curr_mood_5         5000 non-null float64\n",
      "curr_mood_6         5000 non-null float64\n",
      "curr_mood_7         5000 non-null float64\n",
      "curr_mood_8         5000 non-null float64\n",
      "weather_1           5000 non-null float64\n",
      "weather_2           5000 non-null float64\n",
      "weather_3           5000 non-null float64\n",
      "weather_4           5000 non-null float64\n",
      "employed            5000 non-null float64\n",
      "student             5000 non-null float64\n",
      "artist_1            5000 non-null float64\n",
      "artist_2            5000 non-null float64\n",
      "artist_3            5000 non-null float64\n",
      "artist_4            5000 non-null float64\n",
      "artist_5            5000 non-null float64\n",
      "artist_6            5000 non-null float64\n",
      "artist_7            5000 non-null float64\n",
      "artist_8            5000 non-null float64\n",
      "artist_9            5000 non-null float64\n",
      "artist_10           5000 non-null float64\n",
      "artist_11           5000 non-null float64\n",
      "artist_12           5000 non-null float64\n",
      "artist_13           5000 non-null float64\n",
      "artist_14           5000 non-null float64\n",
      "artist_15           5000 non-null float64\n",
      "clt_mat_1           5000 non-null float64\n",
      "clt_mat_2           5000 non-null float64\n",
      "clt_mat_3           5000 non-null float64\n",
      "clt_mat_4           5000 non-null float64\n",
      "clt_mat_5           5000 non-null float64\n",
      "color_1             5000 non-null float64\n",
      "color_2             5000 non-null float64\n",
      "color_3             5000 non-null float64\n",
      "color_4             5000 non-null float64\n",
      "color_5             5000 non-null float64\n",
      "color_6             5000 non-null float64\n",
      "color_7             5000 non-null float64\n",
      "color_8             5000 non-null float64\n",
      "color_9             5000 non-null float64\n",
      "color_10            5000 non-null float64\n",
      "salary_0            5000 non-null float64\n",
      "salary_1            5000 non-null float64\n",
      "salary_2            5000 non-null float64\n",
      "salary_3            5000 non-null float64\n",
      "expenditure_pm_0    5000 non-null float64\n",
      "expenditure_pm_1    5000 non-null float64\n",
      "expenditure_pm_2    5000 non-null float64\n",
      "expenditure_pm_3    5000 non-null float64\n",
      "expenditure_pm_4    5000 non-null float64\n",
      "relative_time_0     5000 non-null float64\n",
      "relative_time_1     5000 non-null float64\n",
      "relative_time_2     5000 non-null float64\n",
      "relative_time_3     5000 non-null float64\n",
      "dtypes: float64(60), int64(1)\n",
      "memory usage: 2.3 MB\n"
     ]
    }
   ],
   "source": [
    "data_cloth_synthetic.info()"
   ]
  },
  {
   "cell_type": "code",
   "execution_count": 40,
   "metadata": {},
   "outputs": [],
   "source": [
    "data_cloth_synthetic.to_csv('../data_files/synthetic_data/data_cloth_synthetic.csv')"
   ]
  },
  {
   "cell_type": "code",
   "execution_count": 41,
   "metadata": {},
   "outputs": [],
   "source": [
    "from sklearn.model_selection import train_test_split\n",
    "X_train, X_test, y_train, y_test = train_test_split(X_synthetic.values, Y_synthetic.values, test_size = 0.2, random_state = 0)"
   ]
  },
  {
   "cell_type": "code",
   "execution_count": 42,
   "metadata": {},
   "outputs": [
    {
     "name": "stdout",
     "output_type": "stream",
     "text": [
      "(4000, 60)\n",
      "(4000, 1)\n"
     ]
    }
   ],
   "source": [
    "print(X_train.shape)\n",
    "print(y_train.shape)"
   ]
  },
  {
   "cell_type": "code",
   "execution_count": 43,
   "metadata": {},
   "outputs": [
    {
     "name": "stdout",
     "output_type": "stream",
     "text": [
      "(1000, 60)\n",
      "(1000, 1)\n"
     ]
    }
   ],
   "source": [
    "print(X_test.shape)\n",
    "print(y_test.shape)"
   ]
  },
  {
   "cell_type": "code",
   "execution_count": 44,
   "metadata": {},
   "outputs": [
    {
     "name": "stderr",
     "output_type": "stream",
     "text": [
      "/home/unknownsk/anaconda3/lib/python3.7/site-packages/ipykernel_launcher.py:3: DataConversionWarning: A column-vector y was passed when a 1d array was expected. Please change the shape of y to (n_samples, ), for example using ravel().\n",
      "  This is separate from the ipykernel package so we can avoid doing imports until\n"
     ]
    },
    {
     "name": "stdout",
     "output_type": "stream",
     "text": [
      "0.701\n"
     ]
    }
   ],
   "source": [
    "from sklearn.neighbors import KNeighborsClassifier\n",
    "from sklearn.metrics import confusion_matrix \n",
    "knn = KNeighborsClassifier(n_neighbors = 7).fit(X_train, y_train) \n",
    "  \n",
    "# accuracy on X_test \n",
    "accuracy = knn.score(X_test, y_test) \n",
    "print(accuracy)\n",
    "\n",
    "# creating a confusion matrix \n",
    "knn_predictions = knn.predict(X_test)  \n",
    "cm_knn = confusion_matrix(y_test, knn_predictions) "
   ]
  },
  {
   "cell_type": "code",
   "execution_count": 45,
   "metadata": {},
   "outputs": [
    {
     "data": {
      "text/plain": [
       "array([[75,  1,  2,  0,  1,  6,  1,  1,  2,  2],\n",
       "       [ 4, 75,  4,  1,  3,  2,  0,  2,  3,  1],\n",
       "       [ 2,  2, 75,  0,  3,  0,  0,  2,  4,  1],\n",
       "       [ 6,  6,  6, 69,  4,  3,  1,  2,  2,  3],\n",
       "       [ 6,  4,  5,  3, 78,  1,  3,  1,  5,  1],\n",
       "       [17,  4, 10,  4,  4, 64,  2,  2,  2,  2],\n",
       "       [ 2,  1,  8,  2,  4,  6, 66,  3,  5,  4],\n",
       "       [ 5,  7, 10,  1,  7,  5,  2, 69,  1,  2],\n",
       "       [ 5,  6,  7,  0,  2,  1,  2,  5, 74,  0],\n",
       "       [ 3,  2,  8,  9,  0,  4,  2,  6,  3, 56]])"
      ]
     },
     "execution_count": 45,
     "metadata": {},
     "output_type": "execute_result"
    }
   ],
   "source": [
    "cm_knn"
   ]
  },
  {
   "cell_type": "code",
   "execution_count": 33,
   "metadata": {},
   "outputs": [],
   "source": [
    "from sklearn.preprocessing import StandardScaler\n",
    "from sklearn.ensemble import RandomForestClassifier\n",
    "from sklearn.metrics import confusion_matrix\n",
    "from sklearn.externals import joblib"
   ]
  },
  {
   "cell_type": "code",
   "execution_count": 34,
   "metadata": {},
   "outputs": [
    {
     "name": "stderr",
     "output_type": "stream",
     "text": [
      "/home/unknownsk/anaconda3/lib/python3.7/site-packages/ipykernel_launcher.py:5: DataConversionWarning: A column-vector y was passed when a 1d array was expected. Please change the shape of y to (n_samples,), for example using ravel().\n",
      "  \"\"\"\n"
     ]
    },
    {
     "name": "stdout",
     "output_type": "stream",
     "text": [
      "0.363\n"
     ]
    }
   ],
   "source": [
    "scaler = StandardScaler()\n",
    "X_train = scaler.fit_transform(X_train)\n",
    "X_test = scaler.transform(X_test)\n",
    "classifier = RandomForestClassifier(n_estimators = 50, criterion = 'entropy', random_state = 42)\n",
    "classifier.fit(X_train, y_train)\n",
    "y_pred = classifier.predict(X_test)\n",
    "accuracy = classifier.score(X_test,y_test)\n",
    "print(accuracy)"
   ]
  },
  {
   "cell_type": "code",
   "execution_count": 46,
   "metadata": {},
   "outputs": [
    {
     "data": {
      "text/plain": [
       "['../model_weights/cloth_model.sav']"
      ]
     },
     "execution_count": 46,
     "metadata": {},
     "output_type": "execute_result"
    }
   ],
   "source": [
    "from sklearn.externals import joblib\n",
    "filename = '../model_weights/cloth_model.sav'\n",
    "joblib.dump(knn, filename)"
   ]
  },
  {
   "cell_type": "code",
   "execution_count": null,
   "metadata": {},
   "outputs": [],
   "source": []
  }
 ],
 "metadata": {
  "kernelspec": {
   "display_name": "Python 3",
   "language": "python",
   "name": "python3"
  },
  "language_info": {
   "codemirror_mode": {
    "name": "ipython",
    "version": 3
   },
   "file_extension": ".py",
   "mimetype": "text/x-python",
   "name": "python",
   "nbconvert_exporter": "python",
   "pygments_lexer": "ipython3",
   "version": "3.7.3"
  }
 },
 "nbformat": 4,
 "nbformat_minor": 2
}
