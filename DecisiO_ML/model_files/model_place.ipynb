{
 "cells": [
  {
   "cell_type": "code",
   "execution_count": 1,
   "metadata": {},
   "outputs": [],
   "source": [
    "import numpy as np\n",
    "import pandas as pd\n",
    "import matplotlib.pyplot as plt"
   ]
  },
  {
   "cell_type": "code",
   "execution_count": 2,
   "metadata": {},
   "outputs": [],
   "source": [
    "data = pd.read_csv('data_place.csv')"
   ]
  },
  {
   "cell_type": "code",
   "execution_count": 3,
   "metadata": {},
   "outputs": [
    {
     "data": {
      "text/html": [
       "<div>\n",
       "<style scoped>\n",
       "    .dataframe tbody tr th:only-of-type {\n",
       "        vertical-align: middle;\n",
       "    }\n",
       "\n",
       "    .dataframe tbody tr th {\n",
       "        vertical-align: top;\n",
       "    }\n",
       "\n",
       "    .dataframe thead th {\n",
       "        text-align: right;\n",
       "    }\n",
       "</style>\n",
       "<table border=\"1\" class=\"dataframe\">\n",
       "  <thead>\n",
       "    <tr style=\"text-align: right;\">\n",
       "      <th></th>\n",
       "      <th>Unnamed: 0</th>\n",
       "      <th>place</th>\n",
       "      <th>salary</th>\n",
       "      <th>expenditure_pm</th>\n",
       "      <th>gender</th>\n",
       "      <th>age</th>\n",
       "      <th>curr_temprature</th>\n",
       "      <th>curr_mood_1</th>\n",
       "      <th>curr_mood_2</th>\n",
       "      <th>curr_mood_3</th>\n",
       "      <th>...</th>\n",
       "      <th>hobby_1</th>\n",
       "      <th>hobby_2</th>\n",
       "      <th>hobby_3</th>\n",
       "      <th>hobby_4</th>\n",
       "      <th>hobby_5</th>\n",
       "      <th>hobby_6</th>\n",
       "      <th>hobby_7</th>\n",
       "      <th>hobby_8</th>\n",
       "      <th>hobby_9</th>\n",
       "      <th>hobby_10</th>\n",
       "    </tr>\n",
       "  </thead>\n",
       "  <tbody>\n",
       "    <tr>\n",
       "      <th>0</th>\n",
       "      <td>0</td>\n",
       "      <td>5</td>\n",
       "      <td>3</td>\n",
       "      <td>4</td>\n",
       "      <td>0</td>\n",
       "      <td>17</td>\n",
       "      <td>49.965658</td>\n",
       "      <td>1</td>\n",
       "      <td>0</td>\n",
       "      <td>0</td>\n",
       "      <td>...</td>\n",
       "      <td>0</td>\n",
       "      <td>1</td>\n",
       "      <td>0</td>\n",
       "      <td>1</td>\n",
       "      <td>1</td>\n",
       "      <td>0</td>\n",
       "      <td>1</td>\n",
       "      <td>0</td>\n",
       "      <td>0</td>\n",
       "      <td>1</td>\n",
       "    </tr>\n",
       "    <tr>\n",
       "      <th>1</th>\n",
       "      <td>1</td>\n",
       "      <td>6</td>\n",
       "      <td>0</td>\n",
       "      <td>2</td>\n",
       "      <td>1</td>\n",
       "      <td>48</td>\n",
       "      <td>28.222958</td>\n",
       "      <td>1</td>\n",
       "      <td>0</td>\n",
       "      <td>0</td>\n",
       "      <td>...</td>\n",
       "      <td>0</td>\n",
       "      <td>0</td>\n",
       "      <td>0</td>\n",
       "      <td>1</td>\n",
       "      <td>0</td>\n",
       "      <td>0</td>\n",
       "      <td>1</td>\n",
       "      <td>0</td>\n",
       "      <td>0</td>\n",
       "      <td>1</td>\n",
       "    </tr>\n",
       "    <tr>\n",
       "      <th>2</th>\n",
       "      <td>2</td>\n",
       "      <td>7</td>\n",
       "      <td>2</td>\n",
       "      <td>2</td>\n",
       "      <td>0</td>\n",
       "      <td>55</td>\n",
       "      <td>48.033522</td>\n",
       "      <td>1</td>\n",
       "      <td>0</td>\n",
       "      <td>0</td>\n",
       "      <td>...</td>\n",
       "      <td>1</td>\n",
       "      <td>0</td>\n",
       "      <td>0</td>\n",
       "      <td>1</td>\n",
       "      <td>1</td>\n",
       "      <td>1</td>\n",
       "      <td>1</td>\n",
       "      <td>1</td>\n",
       "      <td>0</td>\n",
       "      <td>1</td>\n",
       "    </tr>\n",
       "    <tr>\n",
       "      <th>3</th>\n",
       "      <td>3</td>\n",
       "      <td>7</td>\n",
       "      <td>1</td>\n",
       "      <td>3</td>\n",
       "      <td>0</td>\n",
       "      <td>50</td>\n",
       "      <td>48.758037</td>\n",
       "      <td>1</td>\n",
       "      <td>0</td>\n",
       "      <td>0</td>\n",
       "      <td>...</td>\n",
       "      <td>1</td>\n",
       "      <td>0</td>\n",
       "      <td>0</td>\n",
       "      <td>1</td>\n",
       "      <td>1</td>\n",
       "      <td>0</td>\n",
       "      <td>0</td>\n",
       "      <td>0</td>\n",
       "      <td>0</td>\n",
       "      <td>0</td>\n",
       "    </tr>\n",
       "    <tr>\n",
       "      <th>4</th>\n",
       "      <td>4</td>\n",
       "      <td>5</td>\n",
       "      <td>0</td>\n",
       "      <td>0</td>\n",
       "      <td>1</td>\n",
       "      <td>28</td>\n",
       "      <td>42.151258</td>\n",
       "      <td>0</td>\n",
       "      <td>1</td>\n",
       "      <td>1</td>\n",
       "      <td>...</td>\n",
       "      <td>0</td>\n",
       "      <td>0</td>\n",
       "      <td>1</td>\n",
       "      <td>0</td>\n",
       "      <td>0</td>\n",
       "      <td>1</td>\n",
       "      <td>0</td>\n",
       "      <td>0</td>\n",
       "      <td>0</td>\n",
       "      <td>1</td>\n",
       "    </tr>\n",
       "  </tbody>\n",
       "</table>\n",
       "<p>5 rows × 47 columns</p>\n",
       "</div>"
      ],
      "text/plain": [
       "   Unnamed: 0  place  salary  expenditure_pm  gender  age  curr_temprature  \\\n",
       "0           0      5       3               4       0   17        49.965658   \n",
       "1           1      6       0               2       1   48        28.222958   \n",
       "2           2      7       2               2       0   55        48.033522   \n",
       "3           3      7       1               3       0   50        48.758037   \n",
       "4           4      5       0               0       1   28        42.151258   \n",
       "\n",
       "   curr_mood_1  curr_mood_2  curr_mood_3  ...  hobby_1  hobby_2  hobby_3  \\\n",
       "0            1            0            0  ...        0        1        0   \n",
       "1            1            0            0  ...        0        0        0   \n",
       "2            1            0            0  ...        1        0        0   \n",
       "3            1            0            0  ...        1        0        0   \n",
       "4            0            1            1  ...        0        0        1   \n",
       "\n",
       "   hobby_4  hobby_5  hobby_6  hobby_7  hobby_8  hobby_9  hobby_10  \n",
       "0        1        1        0        1        0        0         1  \n",
       "1        1        0        0        1        0        0         1  \n",
       "2        1        1        1        1        1        0         1  \n",
       "3        1        1        0        0        0        0         0  \n",
       "4        0        0        1        0        0        0         1  \n",
       "\n",
       "[5 rows x 47 columns]"
      ]
     },
     "execution_count": 3,
     "metadata": {},
     "output_type": "execute_result"
    }
   ],
   "source": [
    "data.head()"
   ]
  },
  {
   "cell_type": "code",
   "execution_count": 4,
   "metadata": {},
   "outputs": [
    {
     "data": {
      "text/plain": [
       "Index(['Unnamed: 0', 'place', 'salary', 'expenditure_pm', 'gender', 'age',\n",
       "       'curr_temprature', 'curr_mood_1', 'curr_mood_2', 'curr_mood_3',\n",
       "       'curr_mood_4', 'curr_mood_5', 'curr_mood_6', 'curr_mood_7',\n",
       "       'curr_mood_8', 'weather_1', 'weather_2', 'weather_3', 'weather_4',\n",
       "       'allergy_1', 'allergy_2', 'allergy_3', 'allergy_4', 'allergy_5',\n",
       "       'chronic_1', 'chronic_2', 'chronic_3', 'chronic_4', 'chronic_5',\n",
       "       'chronic_6', 'chronic_7', 'employed', 'student', 'ind_cuisine_1',\n",
       "       'ind_cuisine_2', 'ind_cuisine_3', 'ind_cuisine_4', 'hobby_1', 'hobby_2',\n",
       "       'hobby_3', 'hobby_4', 'hobby_5', 'hobby_6', 'hobby_7', 'hobby_8',\n",
       "       'hobby_9', 'hobby_10'],\n",
       "      dtype='object')"
      ]
     },
     "execution_count": 4,
     "metadata": {},
     "output_type": "execute_result"
    }
   ],
   "source": [
    "data.columns"
   ]
  },
  {
   "cell_type": "code",
   "execution_count": 5,
   "metadata": {},
   "outputs": [],
   "source": [
    "data = data.drop(['Unnamed: 0'],axis = 1)"
   ]
  },
  {
   "cell_type": "code",
   "execution_count": 6,
   "metadata": {},
   "outputs": [
    {
     "data": {
      "text/html": [
       "<div>\n",
       "<style scoped>\n",
       "    .dataframe tbody tr th:only-of-type {\n",
       "        vertical-align: middle;\n",
       "    }\n",
       "\n",
       "    .dataframe tbody tr th {\n",
       "        vertical-align: top;\n",
       "    }\n",
       "\n",
       "    .dataframe thead th {\n",
       "        text-align: right;\n",
       "    }\n",
       "</style>\n",
       "<table border=\"1\" class=\"dataframe\">\n",
       "  <thead>\n",
       "    <tr style=\"text-align: right;\">\n",
       "      <th></th>\n",
       "      <th>place</th>\n",
       "      <th>salary</th>\n",
       "      <th>expenditure_pm</th>\n",
       "      <th>gender</th>\n",
       "      <th>age</th>\n",
       "      <th>curr_temprature</th>\n",
       "      <th>curr_mood_1</th>\n",
       "      <th>curr_mood_2</th>\n",
       "      <th>curr_mood_3</th>\n",
       "      <th>curr_mood_4</th>\n",
       "      <th>...</th>\n",
       "      <th>hobby_1</th>\n",
       "      <th>hobby_2</th>\n",
       "      <th>hobby_3</th>\n",
       "      <th>hobby_4</th>\n",
       "      <th>hobby_5</th>\n",
       "      <th>hobby_6</th>\n",
       "      <th>hobby_7</th>\n",
       "      <th>hobby_8</th>\n",
       "      <th>hobby_9</th>\n",
       "      <th>hobby_10</th>\n",
       "    </tr>\n",
       "  </thead>\n",
       "  <tbody>\n",
       "    <tr>\n",
       "      <th>0</th>\n",
       "      <td>5</td>\n",
       "      <td>3</td>\n",
       "      <td>4</td>\n",
       "      <td>0</td>\n",
       "      <td>17</td>\n",
       "      <td>49.965658</td>\n",
       "      <td>1</td>\n",
       "      <td>0</td>\n",
       "      <td>0</td>\n",
       "      <td>0</td>\n",
       "      <td>...</td>\n",
       "      <td>0</td>\n",
       "      <td>1</td>\n",
       "      <td>0</td>\n",
       "      <td>1</td>\n",
       "      <td>1</td>\n",
       "      <td>0</td>\n",
       "      <td>1</td>\n",
       "      <td>0</td>\n",
       "      <td>0</td>\n",
       "      <td>1</td>\n",
       "    </tr>\n",
       "    <tr>\n",
       "      <th>1</th>\n",
       "      <td>6</td>\n",
       "      <td>0</td>\n",
       "      <td>2</td>\n",
       "      <td>1</td>\n",
       "      <td>48</td>\n",
       "      <td>28.222958</td>\n",
       "      <td>1</td>\n",
       "      <td>0</td>\n",
       "      <td>0</td>\n",
       "      <td>0</td>\n",
       "      <td>...</td>\n",
       "      <td>0</td>\n",
       "      <td>0</td>\n",
       "      <td>0</td>\n",
       "      <td>1</td>\n",
       "      <td>0</td>\n",
       "      <td>0</td>\n",
       "      <td>1</td>\n",
       "      <td>0</td>\n",
       "      <td>0</td>\n",
       "      <td>1</td>\n",
       "    </tr>\n",
       "    <tr>\n",
       "      <th>2</th>\n",
       "      <td>7</td>\n",
       "      <td>2</td>\n",
       "      <td>2</td>\n",
       "      <td>0</td>\n",
       "      <td>55</td>\n",
       "      <td>48.033522</td>\n",
       "      <td>1</td>\n",
       "      <td>0</td>\n",
       "      <td>0</td>\n",
       "      <td>1</td>\n",
       "      <td>...</td>\n",
       "      <td>1</td>\n",
       "      <td>0</td>\n",
       "      <td>0</td>\n",
       "      <td>1</td>\n",
       "      <td>1</td>\n",
       "      <td>1</td>\n",
       "      <td>1</td>\n",
       "      <td>1</td>\n",
       "      <td>0</td>\n",
       "      <td>1</td>\n",
       "    </tr>\n",
       "    <tr>\n",
       "      <th>3</th>\n",
       "      <td>7</td>\n",
       "      <td>1</td>\n",
       "      <td>3</td>\n",
       "      <td>0</td>\n",
       "      <td>50</td>\n",
       "      <td>48.758037</td>\n",
       "      <td>1</td>\n",
       "      <td>0</td>\n",
       "      <td>0</td>\n",
       "      <td>0</td>\n",
       "      <td>...</td>\n",
       "      <td>1</td>\n",
       "      <td>0</td>\n",
       "      <td>0</td>\n",
       "      <td>1</td>\n",
       "      <td>1</td>\n",
       "      <td>0</td>\n",
       "      <td>0</td>\n",
       "      <td>0</td>\n",
       "      <td>0</td>\n",
       "      <td>0</td>\n",
       "    </tr>\n",
       "    <tr>\n",
       "      <th>4</th>\n",
       "      <td>5</td>\n",
       "      <td>0</td>\n",
       "      <td>0</td>\n",
       "      <td>1</td>\n",
       "      <td>28</td>\n",
       "      <td>42.151258</td>\n",
       "      <td>0</td>\n",
       "      <td>1</td>\n",
       "      <td>1</td>\n",
       "      <td>1</td>\n",
       "      <td>...</td>\n",
       "      <td>0</td>\n",
       "      <td>0</td>\n",
       "      <td>1</td>\n",
       "      <td>0</td>\n",
       "      <td>0</td>\n",
       "      <td>1</td>\n",
       "      <td>0</td>\n",
       "      <td>0</td>\n",
       "      <td>0</td>\n",
       "      <td>1</td>\n",
       "    </tr>\n",
       "  </tbody>\n",
       "</table>\n",
       "<p>5 rows × 46 columns</p>\n",
       "</div>"
      ],
      "text/plain": [
       "   place  salary  expenditure_pm  gender  age  curr_temprature  curr_mood_1  \\\n",
       "0      5       3               4       0   17        49.965658            1   \n",
       "1      6       0               2       1   48        28.222958            1   \n",
       "2      7       2               2       0   55        48.033522            1   \n",
       "3      7       1               3       0   50        48.758037            1   \n",
       "4      5       0               0       1   28        42.151258            0   \n",
       "\n",
       "   curr_mood_2  curr_mood_3  curr_mood_4  ...  hobby_1  hobby_2  hobby_3  \\\n",
       "0            0            0            0  ...        0        1        0   \n",
       "1            0            0            0  ...        0        0        0   \n",
       "2            0            0            1  ...        1        0        0   \n",
       "3            0            0            0  ...        1        0        0   \n",
       "4            1            1            1  ...        0        0        1   \n",
       "\n",
       "   hobby_4  hobby_5  hobby_6  hobby_7  hobby_8  hobby_9  hobby_10  \n",
       "0        1        1        0        1        0        0         1  \n",
       "1        1        0        0        1        0        0         1  \n",
       "2        1        1        1        1        1        0         1  \n",
       "3        1        1        0        0        0        0         0  \n",
       "4        0        0        1        0        0        0         1  \n",
       "\n",
       "[5 rows x 46 columns]"
      ]
     },
     "execution_count": 6,
     "metadata": {},
     "output_type": "execute_result"
    }
   ],
   "source": [
    "data.head()"
   ]
  },
  {
   "cell_type": "code",
   "execution_count": 27,
   "metadata": {},
   "outputs": [],
   "source": [
    "X = data.iloc[:,1:]\n",
    "Y = data.iloc[:,0]"
   ]
  },
  {
   "cell_type": "code",
   "execution_count": 8,
   "metadata": {},
   "outputs": [
    {
     "data": {
      "text/html": [
       "<div>\n",
       "<style scoped>\n",
       "    .dataframe tbody tr th:only-of-type {\n",
       "        vertical-align: middle;\n",
       "    }\n",
       "\n",
       "    .dataframe tbody tr th {\n",
       "        vertical-align: top;\n",
       "    }\n",
       "\n",
       "    .dataframe thead th {\n",
       "        text-align: right;\n",
       "    }\n",
       "</style>\n",
       "<table border=\"1\" class=\"dataframe\">\n",
       "  <thead>\n",
       "    <tr style=\"text-align: right;\">\n",
       "      <th></th>\n",
       "      <th>salary</th>\n",
       "      <th>expenditure_pm</th>\n",
       "      <th>gender</th>\n",
       "      <th>age</th>\n",
       "      <th>curr_temprature</th>\n",
       "      <th>curr_mood_1</th>\n",
       "      <th>curr_mood_2</th>\n",
       "      <th>curr_mood_3</th>\n",
       "      <th>curr_mood_4</th>\n",
       "      <th>curr_mood_5</th>\n",
       "      <th>...</th>\n",
       "      <th>hobby_1</th>\n",
       "      <th>hobby_2</th>\n",
       "      <th>hobby_3</th>\n",
       "      <th>hobby_4</th>\n",
       "      <th>hobby_5</th>\n",
       "      <th>hobby_6</th>\n",
       "      <th>hobby_7</th>\n",
       "      <th>hobby_8</th>\n",
       "      <th>hobby_9</th>\n",
       "      <th>hobby_10</th>\n",
       "    </tr>\n",
       "  </thead>\n",
       "  <tbody>\n",
       "    <tr>\n",
       "      <th>0</th>\n",
       "      <td>3</td>\n",
       "      <td>4</td>\n",
       "      <td>0</td>\n",
       "      <td>17</td>\n",
       "      <td>49.965658</td>\n",
       "      <td>1</td>\n",
       "      <td>0</td>\n",
       "      <td>0</td>\n",
       "      <td>0</td>\n",
       "      <td>0</td>\n",
       "      <td>...</td>\n",
       "      <td>0</td>\n",
       "      <td>1</td>\n",
       "      <td>0</td>\n",
       "      <td>1</td>\n",
       "      <td>1</td>\n",
       "      <td>0</td>\n",
       "      <td>1</td>\n",
       "      <td>0</td>\n",
       "      <td>0</td>\n",
       "      <td>1</td>\n",
       "    </tr>\n",
       "    <tr>\n",
       "      <th>1</th>\n",
       "      <td>0</td>\n",
       "      <td>2</td>\n",
       "      <td>1</td>\n",
       "      <td>48</td>\n",
       "      <td>28.222958</td>\n",
       "      <td>1</td>\n",
       "      <td>0</td>\n",
       "      <td>0</td>\n",
       "      <td>0</td>\n",
       "      <td>0</td>\n",
       "      <td>...</td>\n",
       "      <td>0</td>\n",
       "      <td>0</td>\n",
       "      <td>0</td>\n",
       "      <td>1</td>\n",
       "      <td>0</td>\n",
       "      <td>0</td>\n",
       "      <td>1</td>\n",
       "      <td>0</td>\n",
       "      <td>0</td>\n",
       "      <td>1</td>\n",
       "    </tr>\n",
       "    <tr>\n",
       "      <th>2</th>\n",
       "      <td>2</td>\n",
       "      <td>2</td>\n",
       "      <td>0</td>\n",
       "      <td>55</td>\n",
       "      <td>48.033522</td>\n",
       "      <td>1</td>\n",
       "      <td>0</td>\n",
       "      <td>0</td>\n",
       "      <td>1</td>\n",
       "      <td>0</td>\n",
       "      <td>...</td>\n",
       "      <td>1</td>\n",
       "      <td>0</td>\n",
       "      <td>0</td>\n",
       "      <td>1</td>\n",
       "      <td>1</td>\n",
       "      <td>1</td>\n",
       "      <td>1</td>\n",
       "      <td>1</td>\n",
       "      <td>0</td>\n",
       "      <td>1</td>\n",
       "    </tr>\n",
       "    <tr>\n",
       "      <th>3</th>\n",
       "      <td>1</td>\n",
       "      <td>3</td>\n",
       "      <td>0</td>\n",
       "      <td>50</td>\n",
       "      <td>48.758037</td>\n",
       "      <td>1</td>\n",
       "      <td>0</td>\n",
       "      <td>0</td>\n",
       "      <td>0</td>\n",
       "      <td>1</td>\n",
       "      <td>...</td>\n",
       "      <td>1</td>\n",
       "      <td>0</td>\n",
       "      <td>0</td>\n",
       "      <td>1</td>\n",
       "      <td>1</td>\n",
       "      <td>0</td>\n",
       "      <td>0</td>\n",
       "      <td>0</td>\n",
       "      <td>0</td>\n",
       "      <td>0</td>\n",
       "    </tr>\n",
       "    <tr>\n",
       "      <th>4</th>\n",
       "      <td>0</td>\n",
       "      <td>0</td>\n",
       "      <td>1</td>\n",
       "      <td>28</td>\n",
       "      <td>42.151258</td>\n",
       "      <td>0</td>\n",
       "      <td>1</td>\n",
       "      <td>1</td>\n",
       "      <td>1</td>\n",
       "      <td>0</td>\n",
       "      <td>...</td>\n",
       "      <td>0</td>\n",
       "      <td>0</td>\n",
       "      <td>1</td>\n",
       "      <td>0</td>\n",
       "      <td>0</td>\n",
       "      <td>1</td>\n",
       "      <td>0</td>\n",
       "      <td>0</td>\n",
       "      <td>0</td>\n",
       "      <td>1</td>\n",
       "    </tr>\n",
       "  </tbody>\n",
       "</table>\n",
       "<p>5 rows × 45 columns</p>\n",
       "</div>"
      ],
      "text/plain": [
       "   salary  expenditure_pm  gender  age  curr_temprature  curr_mood_1  \\\n",
       "0       3               4       0   17        49.965658            1   \n",
       "1       0               2       1   48        28.222958            1   \n",
       "2       2               2       0   55        48.033522            1   \n",
       "3       1               3       0   50        48.758037            1   \n",
       "4       0               0       1   28        42.151258            0   \n",
       "\n",
       "   curr_mood_2  curr_mood_3  curr_mood_4  curr_mood_5  ...  hobby_1  hobby_2  \\\n",
       "0            0            0            0            0  ...        0        1   \n",
       "1            0            0            0            0  ...        0        0   \n",
       "2            0            0            1            0  ...        1        0   \n",
       "3            0            0            0            1  ...        1        0   \n",
       "4            1            1            1            0  ...        0        0   \n",
       "\n",
       "   hobby_3  hobby_4  hobby_5  hobby_6  hobby_7  hobby_8  hobby_9  hobby_10  \n",
       "0        0        1        1        0        1        0        0         1  \n",
       "1        0        1        0        0        1        0        0         1  \n",
       "2        0        1        1        1        1        1        0         1  \n",
       "3        0        1        1        0        0        0        0         0  \n",
       "4        1        0        0        1        0        0        0         1  \n",
       "\n",
       "[5 rows x 45 columns]"
      ]
     },
     "execution_count": 8,
     "metadata": {},
     "output_type": "execute_result"
    }
   ],
   "source": [
    "X.head()"
   ]
  },
  {
   "cell_type": "code",
   "execution_count": 28,
   "metadata": {},
   "outputs": [
    {
     "data": {
      "text/plain": [
       "0    5\n",
       "1    6\n",
       "2    7\n",
       "3    7\n",
       "4    5\n",
       "Name: place, dtype: int64"
      ]
     },
     "execution_count": 28,
     "metadata": {},
     "output_type": "execute_result"
    }
   ],
   "source": [
    "Y.head()"
   ]
  },
  {
   "cell_type": "code",
   "execution_count": 10,
   "metadata": {},
   "outputs": [
    {
     "data": {
      "text/plain": [
       "Index(['salary', 'expenditure_pm', 'gender', 'age', 'curr_temprature',\n",
       "       'curr_mood_1', 'curr_mood_2', 'curr_mood_3', 'curr_mood_4',\n",
       "       'curr_mood_5', 'curr_mood_6', 'curr_mood_7', 'curr_mood_8', 'weather_1',\n",
       "       'weather_2', 'weather_3', 'weather_4', 'allergy_1', 'allergy_2',\n",
       "       'allergy_3', 'allergy_4', 'allergy_5', 'chronic_1', 'chronic_2',\n",
       "       'chronic_3', 'chronic_4', 'chronic_5', 'chronic_6', 'chronic_7',\n",
       "       'employed', 'student', 'ind_cuisine_1', 'ind_cuisine_2',\n",
       "       'ind_cuisine_3', 'ind_cuisine_4', 'hobby_1', 'hobby_2', 'hobby_3',\n",
       "       'hobby_4', 'hobby_5', 'hobby_6', 'hobby_7', 'hobby_8', 'hobby_9',\n",
       "       'hobby_10'],\n",
       "      dtype='object')"
      ]
     },
     "execution_count": 10,
     "metadata": {},
     "output_type": "execute_result"
    }
   ],
   "source": [
    "X.columns"
   ]
  },
  {
   "cell_type": "code",
   "execution_count": 11,
   "metadata": {},
   "outputs": [
    {
     "data": {
      "text/html": [
       "<div>\n",
       "<style scoped>\n",
       "    .dataframe tbody tr th:only-of-type {\n",
       "        vertical-align: middle;\n",
       "    }\n",
       "\n",
       "    .dataframe tbody tr th {\n",
       "        vertical-align: top;\n",
       "    }\n",
       "\n",
       "    .dataframe thead th {\n",
       "        text-align: right;\n",
       "    }\n",
       "</style>\n",
       "<table border=\"1\" class=\"dataframe\">\n",
       "  <thead>\n",
       "    <tr style=\"text-align: right;\">\n",
       "      <th></th>\n",
       "      <th>salary</th>\n",
       "      <th>expenditure_pm</th>\n",
       "      <th>gender</th>\n",
       "      <th>age</th>\n",
       "      <th>curr_temprature</th>\n",
       "      <th>curr_mood_1</th>\n",
       "      <th>curr_mood_2</th>\n",
       "      <th>curr_mood_3</th>\n",
       "      <th>curr_mood_4</th>\n",
       "      <th>curr_mood_5</th>\n",
       "      <th>...</th>\n",
       "      <th>hobby_1</th>\n",
       "      <th>hobby_2</th>\n",
       "      <th>hobby_3</th>\n",
       "      <th>hobby_4</th>\n",
       "      <th>hobby_5</th>\n",
       "      <th>hobby_6</th>\n",
       "      <th>hobby_7</th>\n",
       "      <th>hobby_8</th>\n",
       "      <th>hobby_9</th>\n",
       "      <th>hobby_10</th>\n",
       "    </tr>\n",
       "  </thead>\n",
       "  <tbody>\n",
       "    <tr>\n",
       "      <th>0</th>\n",
       "      <td>3</td>\n",
       "      <td>4</td>\n",
       "      <td>0</td>\n",
       "      <td>17</td>\n",
       "      <td>49.965658</td>\n",
       "      <td>1</td>\n",
       "      <td>0</td>\n",
       "      <td>0</td>\n",
       "      <td>0</td>\n",
       "      <td>0</td>\n",
       "      <td>...</td>\n",
       "      <td>0</td>\n",
       "      <td>1</td>\n",
       "      <td>0</td>\n",
       "      <td>1</td>\n",
       "      <td>1</td>\n",
       "      <td>0</td>\n",
       "      <td>1</td>\n",
       "      <td>0</td>\n",
       "      <td>0</td>\n",
       "      <td>1</td>\n",
       "    </tr>\n",
       "    <tr>\n",
       "      <th>1</th>\n",
       "      <td>0</td>\n",
       "      <td>2</td>\n",
       "      <td>1</td>\n",
       "      <td>48</td>\n",
       "      <td>28.222958</td>\n",
       "      <td>1</td>\n",
       "      <td>0</td>\n",
       "      <td>0</td>\n",
       "      <td>0</td>\n",
       "      <td>0</td>\n",
       "      <td>...</td>\n",
       "      <td>0</td>\n",
       "      <td>0</td>\n",
       "      <td>0</td>\n",
       "      <td>1</td>\n",
       "      <td>0</td>\n",
       "      <td>0</td>\n",
       "      <td>1</td>\n",
       "      <td>0</td>\n",
       "      <td>0</td>\n",
       "      <td>1</td>\n",
       "    </tr>\n",
       "    <tr>\n",
       "      <th>2</th>\n",
       "      <td>2</td>\n",
       "      <td>2</td>\n",
       "      <td>0</td>\n",
       "      <td>55</td>\n",
       "      <td>48.033522</td>\n",
       "      <td>1</td>\n",
       "      <td>0</td>\n",
       "      <td>0</td>\n",
       "      <td>1</td>\n",
       "      <td>0</td>\n",
       "      <td>...</td>\n",
       "      <td>1</td>\n",
       "      <td>0</td>\n",
       "      <td>0</td>\n",
       "      <td>1</td>\n",
       "      <td>1</td>\n",
       "      <td>1</td>\n",
       "      <td>1</td>\n",
       "      <td>1</td>\n",
       "      <td>0</td>\n",
       "      <td>1</td>\n",
       "    </tr>\n",
       "    <tr>\n",
       "      <th>3</th>\n",
       "      <td>1</td>\n",
       "      <td>3</td>\n",
       "      <td>0</td>\n",
       "      <td>50</td>\n",
       "      <td>48.758037</td>\n",
       "      <td>1</td>\n",
       "      <td>0</td>\n",
       "      <td>0</td>\n",
       "      <td>0</td>\n",
       "      <td>1</td>\n",
       "      <td>...</td>\n",
       "      <td>1</td>\n",
       "      <td>0</td>\n",
       "      <td>0</td>\n",
       "      <td>1</td>\n",
       "      <td>1</td>\n",
       "      <td>0</td>\n",
       "      <td>0</td>\n",
       "      <td>0</td>\n",
       "      <td>0</td>\n",
       "      <td>0</td>\n",
       "    </tr>\n",
       "    <tr>\n",
       "      <th>4</th>\n",
       "      <td>0</td>\n",
       "      <td>0</td>\n",
       "      <td>1</td>\n",
       "      <td>28</td>\n",
       "      <td>42.151258</td>\n",
       "      <td>0</td>\n",
       "      <td>1</td>\n",
       "      <td>1</td>\n",
       "      <td>1</td>\n",
       "      <td>0</td>\n",
       "      <td>...</td>\n",
       "      <td>0</td>\n",
       "      <td>0</td>\n",
       "      <td>1</td>\n",
       "      <td>0</td>\n",
       "      <td>0</td>\n",
       "      <td>1</td>\n",
       "      <td>0</td>\n",
       "      <td>0</td>\n",
       "      <td>0</td>\n",
       "      <td>1</td>\n",
       "    </tr>\n",
       "  </tbody>\n",
       "</table>\n",
       "<p>5 rows × 45 columns</p>\n",
       "</div>"
      ],
      "text/plain": [
       "   salary  expenditure_pm  gender  age  curr_temprature  curr_mood_1  \\\n",
       "0       3               4       0   17        49.965658            1   \n",
       "1       0               2       1   48        28.222958            1   \n",
       "2       2               2       0   55        48.033522            1   \n",
       "3       1               3       0   50        48.758037            1   \n",
       "4       0               0       1   28        42.151258            0   \n",
       "\n",
       "   curr_mood_2  curr_mood_3  curr_mood_4  curr_mood_5  ...  hobby_1  hobby_2  \\\n",
       "0            0            0            0            0  ...        0        1   \n",
       "1            0            0            0            0  ...        0        0   \n",
       "2            0            0            1            0  ...        1        0   \n",
       "3            0            0            0            1  ...        1        0   \n",
       "4            1            1            1            0  ...        0        0   \n",
       "\n",
       "   hobby_3  hobby_4  hobby_5  hobby_6  hobby_7  hobby_8  hobby_9  hobby_10  \n",
       "0        0        1        1        0        1        0        0         1  \n",
       "1        0        1        0        0        1        0        0         1  \n",
       "2        0        1        1        1        1        1        0         1  \n",
       "3        0        1        1        0        0        0        0         0  \n",
       "4        1        0        0        1        0        0        0         1  \n",
       "\n",
       "[5 rows x 45 columns]"
      ]
     },
     "execution_count": 11,
     "metadata": {},
     "output_type": "execute_result"
    }
   ],
   "source": [
    "X.head()"
   ]
  },
  {
   "cell_type": "code",
   "execution_count": 12,
   "metadata": {},
   "outputs": [],
   "source": [
    "X = pd.concat([X,pd.get_dummies(X['salary'],prefix='salary')],axis=1)\n",
    "X.drop(['salary'],axis=1, inplace=True)"
   ]
  },
  {
   "cell_type": "code",
   "execution_count": 14,
   "metadata": {},
   "outputs": [
    {
     "data": {
      "text/plain": [
       "Index(['expenditure_pm', 'gender', 'age', 'curr_temprature', 'curr_mood_1',\n",
       "       'curr_mood_2', 'curr_mood_3', 'curr_mood_4', 'curr_mood_5',\n",
       "       'curr_mood_6', 'curr_mood_7', 'curr_mood_8', 'weather_1', 'weather_2',\n",
       "       'weather_3', 'weather_4', 'allergy_1', 'allergy_2', 'allergy_3',\n",
       "       'allergy_4', 'allergy_5', 'chronic_1', 'chronic_2', 'chronic_3',\n",
       "       'chronic_4', 'chronic_5', 'chronic_6', 'chronic_7', 'employed',\n",
       "       'student', 'ind_cuisine_1', 'ind_cuisine_2', 'ind_cuisine_3',\n",
       "       'ind_cuisine_4', 'hobby_1', 'hobby_2', 'hobby_3', 'hobby_4', 'hobby_5',\n",
       "       'hobby_6', 'hobby_7', 'hobby_8', 'hobby_9', 'hobby_10', 'salary_0',\n",
       "       'salary_1', 'salary_2', 'salary_3'],\n",
       "      dtype='object')"
      ]
     },
     "execution_count": 14,
     "metadata": {},
     "output_type": "execute_result"
    }
   ],
   "source": [
    "X.columns"
   ]
  },
  {
   "cell_type": "code",
   "execution_count": 15,
   "metadata": {},
   "outputs": [],
   "source": [
    "X = pd.concat([X,pd.get_dummies(X['expenditure_pm'],prefix='expenditure_pm')],axis=1)\n",
    "X.drop(['expenditure_pm'],axis=1, inplace=True)"
   ]
  },
  {
   "cell_type": "code",
   "execution_count": 16,
   "metadata": {},
   "outputs": [
    {
     "data": {
      "text/plain": [
       "Index(['gender', 'age', 'curr_temprature', 'curr_mood_1', 'curr_mood_2',\n",
       "       'curr_mood_3', 'curr_mood_4', 'curr_mood_5', 'curr_mood_6',\n",
       "       'curr_mood_7', 'curr_mood_8', 'weather_1', 'weather_2', 'weather_3',\n",
       "       'weather_4', 'allergy_1', 'allergy_2', 'allergy_3', 'allergy_4',\n",
       "       'allergy_5', 'chronic_1', 'chronic_2', 'chronic_3', 'chronic_4',\n",
       "       'chronic_5', 'chronic_6', 'chronic_7', 'employed', 'student',\n",
       "       'ind_cuisine_1', 'ind_cuisine_2', 'ind_cuisine_3', 'ind_cuisine_4',\n",
       "       'hobby_1', 'hobby_2', 'hobby_3', 'hobby_4', 'hobby_5', 'hobby_6',\n",
       "       'hobby_7', 'hobby_8', 'hobby_9', 'hobby_10', 'salary_0', 'salary_1',\n",
       "       'salary_2', 'salary_3', 'expenditure_pm_0', 'expenditure_pm_1',\n",
       "       'expenditure_pm_2', 'expenditure_pm_3', 'expenditure_pm_4'],\n",
       "      dtype='object')"
      ]
     },
     "execution_count": 16,
     "metadata": {},
     "output_type": "execute_result"
    }
   ],
   "source": [
    "X.columns"
   ]
  },
  {
   "cell_type": "code",
   "execution_count": 17,
   "metadata": {},
   "outputs": [
    {
     "data": {
      "text/plain": [
       "(5000, 52)"
      ]
     },
     "execution_count": 17,
     "metadata": {},
     "output_type": "execute_result"
    }
   ],
   "source": [
    "X.shape"
   ]
  },
  {
   "cell_type": "code",
   "execution_count": 19,
   "metadata": {},
   "outputs": [
    {
     "data": {
      "text/plain": [
       "(5000,)"
      ]
     },
     "execution_count": 19,
     "metadata": {},
     "output_type": "execute_result"
    }
   ],
   "source": [
    "Y.shape"
   ]
  },
  {
   "cell_type": "code",
   "execution_count": 20,
   "metadata": {},
   "outputs": [],
   "source": [
    "from sklearn.datasets import make_classification\n",
    "X1, Y1 = make_classification(n_samples=5000,\n",
    "                             n_features=52, \n",
    "                             n_redundant=0,n_classes=10,\n",
    "                             n_informative=52)"
   ]
  },
  {
   "cell_type": "code",
   "execution_count": 22,
   "metadata": {},
   "outputs": [],
   "source": [
    "X_synthetic = pd.DataFrame(data=X1,columns=X.columns)"
   ]
  },
  {
   "cell_type": "code",
   "execution_count": 30,
   "metadata": {},
   "outputs": [],
   "source": [
    "Y_synthetic = pd.DataFrame(data=Y1,columns=['place'])"
   ]
  },
  {
   "cell_type": "code",
   "execution_count": 37,
   "metadata": {},
   "outputs": [],
   "source": [
    "data_place_synthetic = pd.concat([Y_synthetic,X_synthetic],axis=1)"
   ]
  },
  {
   "cell_type": "code",
   "execution_count": 39,
   "metadata": {},
   "outputs": [
    {
     "name": "stdout",
     "output_type": "stream",
     "text": [
      "<class 'pandas.core.frame.DataFrame'>\n",
      "RangeIndex: 5000 entries, 0 to 4999\n",
      "Data columns (total 53 columns):\n",
      "place               5000 non-null int64\n",
      "gender              5000 non-null float64\n",
      "age                 5000 non-null float64\n",
      "curr_temprature     5000 non-null float64\n",
      "curr_mood_1         5000 non-null float64\n",
      "curr_mood_2         5000 non-null float64\n",
      "curr_mood_3         5000 non-null float64\n",
      "curr_mood_4         5000 non-null float64\n",
      "curr_mood_5         5000 non-null float64\n",
      "curr_mood_6         5000 non-null float64\n",
      "curr_mood_7         5000 non-null float64\n",
      "curr_mood_8         5000 non-null float64\n",
      "weather_1           5000 non-null float64\n",
      "weather_2           5000 non-null float64\n",
      "weather_3           5000 non-null float64\n",
      "weather_4           5000 non-null float64\n",
      "allergy_1           5000 non-null float64\n",
      "allergy_2           5000 non-null float64\n",
      "allergy_3           5000 non-null float64\n",
      "allergy_4           5000 non-null float64\n",
      "allergy_5           5000 non-null float64\n",
      "chronic_1           5000 non-null float64\n",
      "chronic_2           5000 non-null float64\n",
      "chronic_3           5000 non-null float64\n",
      "chronic_4           5000 non-null float64\n",
      "chronic_5           5000 non-null float64\n",
      "chronic_6           5000 non-null float64\n",
      "chronic_7           5000 non-null float64\n",
      "employed            5000 non-null float64\n",
      "student             5000 non-null float64\n",
      "ind_cuisine_1       5000 non-null float64\n",
      "ind_cuisine_2       5000 non-null float64\n",
      "ind_cuisine_3       5000 non-null float64\n",
      "ind_cuisine_4       5000 non-null float64\n",
      "hobby_1             5000 non-null float64\n",
      "hobby_2             5000 non-null float64\n",
      "hobby_3             5000 non-null float64\n",
      "hobby_4             5000 non-null float64\n",
      "hobby_5             5000 non-null float64\n",
      "hobby_6             5000 non-null float64\n",
      "hobby_7             5000 non-null float64\n",
      "hobby_8             5000 non-null float64\n",
      "hobby_9             5000 non-null float64\n",
      "hobby_10            5000 non-null float64\n",
      "salary_0            5000 non-null float64\n",
      "salary_1            5000 non-null float64\n",
      "salary_2            5000 non-null float64\n",
      "salary_3            5000 non-null float64\n",
      "expenditure_pm_0    5000 non-null float64\n",
      "expenditure_pm_1    5000 non-null float64\n",
      "expenditure_pm_2    5000 non-null float64\n",
      "expenditure_pm_3    5000 non-null float64\n",
      "expenditure_pm_4    5000 non-null float64\n",
      "dtypes: float64(52), int64(1)\n",
      "memory usage: 2.0 MB\n"
     ]
    }
   ],
   "source": [
    "data_place_synthetic.info()"
   ]
  },
  {
   "cell_type": "code",
   "execution_count": 55,
   "metadata": {},
   "outputs": [],
   "source": [
    "data_place_synthetic.to_csv('data_place_synthetic.csv')"
   ]
  },
  {
   "cell_type": "code",
   "execution_count": 40,
   "metadata": {},
   "outputs": [],
   "source": [
    "from sklearn.model_selection import train_test_split\n",
    "X_train, X_test, y_train, y_test = train_test_split(X_synthetic.values, Y_synthetic.values, test_size = 0.2, random_state = 0)"
   ]
  },
  {
   "cell_type": "code",
   "execution_count": 41,
   "metadata": {},
   "outputs": [
    {
     "name": "stdout",
     "output_type": "stream",
     "text": [
      "(4000, 52)\n",
      "(4000, 1)\n"
     ]
    }
   ],
   "source": [
    "print(X_train.shape)\n",
    "print(y_train.shape)"
   ]
  },
  {
   "cell_type": "code",
   "execution_count": 42,
   "metadata": {},
   "outputs": [
    {
     "name": "stdout",
     "output_type": "stream",
     "text": [
      "(1000, 52)\n",
      "(1000, 1)\n"
     ]
    }
   ],
   "source": [
    "print(X_test.shape)\n",
    "print(y_test.shape)"
   ]
  },
  {
   "cell_type": "code",
   "execution_count": 53,
   "metadata": {},
   "outputs": [
    {
     "name": "stderr",
     "output_type": "stream",
     "text": [
      "/home/unknownsk/anaconda3/lib/python3.7/site-packages/ipykernel_launcher.py:3: DataConversionWarning: A column-vector y was passed when a 1d array was expected. Please change the shape of y to (n_samples, ), for example using ravel().\n",
      "  This is separate from the ipykernel package so we can avoid doing imports until\n"
     ]
    },
    {
     "name": "stdout",
     "output_type": "stream",
     "text": [
      "0.714\n"
     ]
    }
   ],
   "source": [
    "from sklearn.neighbors import KNeighborsClassifier\n",
    "from sklearn.metrics import confusion_matrix \n",
    "knn = KNeighborsClassifier(n_neighbors = 7).fit(X_train, y_train) \n",
    "  \n",
    "# accuracy on X_test \n",
    "accuracy = knn.score(X_test, y_test) \n",
    "print(accuracy)\n",
    "\n",
    "# creating a confusion matrix \n",
    "knn_predictions = knn.predict(X_test)  \n",
    "cm_knn = confusion_matrix(y_test, knn_predictions) "
   ]
  },
  {
   "cell_type": "code",
   "execution_count": 54,
   "metadata": {},
   "outputs": [
    {
     "data": {
      "text/plain": [
       "array([[95,  3,  3,  2,  1,  3,  2,  0,  0,  0],\n",
       "       [ 6, 78,  2,  4,  1,  2,  0,  2,  3,  1],\n",
       "       [ 2,  4, 80,  1,  3,  2,  3,  0,  4,  1],\n",
       "       [ 7,  2,  2, 61,  0,  2,  2,  1,  1,  0],\n",
       "       [10,  5,  8, 10, 71,  5,  3,  2,  1,  1],\n",
       "       [ 3,  1,  2,  4,  2, 67,  1,  0,  1,  0],\n",
       "       [10,  5,  5,  5,  4,  9, 69,  1,  0,  1],\n",
       "       [11,  6,  3,  5,  6,  4,  3, 58,  0,  1],\n",
       "       [ 6,  3,  2,  6,  3,  4,  3,  2, 59,  1],\n",
       "       [ 9,  7,  6,  4,  4,  7,  2,  0,  7, 76]])"
      ]
     },
     "execution_count": 54,
     "metadata": {},
     "output_type": "execute_result"
    }
   ],
   "source": [
    "cm_knn"
   ]
  },
  {
   "cell_type": "code",
   "execution_count": 56,
   "metadata": {},
   "outputs": [],
   "source": [
    "from sklearn.preprocessing import StandardScaler\n",
    "from sklearn.ensemble import RandomForestClassifier\n",
    "from sklearn.metrics import confusion_matrix\n",
    "from sklearn.externals import joblib"
   ]
  },
  {
   "cell_type": "code",
   "execution_count": 59,
   "metadata": {},
   "outputs": [
    {
     "name": "stderr",
     "output_type": "stream",
     "text": [
      "/home/unknownsk/anaconda3/lib/python3.7/site-packages/ipykernel_launcher.py:5: DataConversionWarning: A column-vector y was passed when a 1d array was expected. Please change the shape of y to (n_samples,), for example using ravel().\n",
      "  \"\"\"\n"
     ]
    },
    {
     "name": "stdout",
     "output_type": "stream",
     "text": [
      "0.416\n"
     ]
    }
   ],
   "source": [
    "scaler = StandardScaler()\n",
    "X_train = scaler.fit_transform(X_train)\n",
    "X_test = scaler.transform(X_test)\n",
    "classifier = RandomForestClassifier(n_estimators = 50, criterion = 'entropy', random_state = 42)\n",
    "classifier.fit(X_train, y_train)\n",
    "y_pred = classifier.predict(X_test)\n",
    "accuracy = classifier.score(X_test,y_test)\n",
    "print(accuracy)"
   ]
  },
  {
   "cell_type": "code",
   "execution_count": 60,
   "metadata": {},
   "outputs": [
    {
     "data": {
      "text/plain": [
       "['place_model.sav']"
      ]
     },
     "execution_count": 60,
     "metadata": {},
     "output_type": "execute_result"
    }
   ],
   "source": [
    "from sklearn.externals import joblib\n",
    "filename = 'place_model.sav'\n",
    "joblib.dump(knn, filename)"
   ]
  },
  {
   "cell_type": "code",
   "execution_count": null,
   "metadata": {},
   "outputs": [],
   "source": []
  }
 ],
 "metadata": {
  "kernelspec": {
   "display_name": "Python 3",
   "language": "python",
   "name": "python3"
  },
  "language_info": {
   "codemirror_mode": {
    "name": "ipython",
    "version": 3
   },
   "file_extension": ".py",
   "mimetype": "text/x-python",
   "name": "python",
   "nbconvert_exporter": "python",
   "pygments_lexer": "ipython3",
   "version": "3.7.3"
  }
 },
 "nbformat": 4,
 "nbformat_minor": 2
}
