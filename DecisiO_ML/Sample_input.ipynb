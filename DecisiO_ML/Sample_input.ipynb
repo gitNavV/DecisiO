{
 "cells": [
  {
   "cell_type": "code",
   "execution_count": 1,
   "metadata": {},
   "outputs": [],
   "source": [
    "import requests\n",
    "import json"
   ]
  },
  {
   "cell_type": "code",
   "execution_count": 2,
   "metadata": {},
   "outputs": [],
   "source": [
    "sample_data = {\n",
    "        \"salary\" : 3,\n",
    "        \"expenditure_pm\" : 3,\n",
    "        \"relative_time\" : 2,\n",
    "        \"gender\" : 0,\n",
    "        \"age\" : 21,\n",
    "        \"curr_temprature\" : 30,\n",
    "        \"curr_mood_1\" : 0,\n",
    "        \"curr_mood_2\" : 0,\n",
    "        \"curr_mood_3\" : 0,\n",
    "        \"curr_mood_4\" : 0,\n",
    "        \"curr_mood_5\" : 1,\n",
    "        \"curr_mood_6\" : 0,\n",
    "        \"curr_mood_7\" : 0,\n",
    "        \"curr_mood_8\" : 0,\n",
    "        \"weather_1\" : 0,\n",
    "        \"weather_2\" : 1,\n",
    "        \"weather_3\" : 1,\n",
    "        \"weather_4\" : 0,\n",
    "        \"allergy_1\" : 0,\n",
    "        \"allergy_2\" : 0,\n",
    "        \"allergy_3\" : 0,\n",
    "        \"allergy_4\" : 1,\n",
    "        \"allergy_5\" : 0,\n",
    "        \"chronic_1\" : 1,\n",
    "        \"chronic_2\" : 0,\n",
    "        \"chronic_3\" : 0,\n",
    "        \"chronic_4\" : 0,\n",
    "        \"chronic_5\" : 1,\n",
    "        \"chronic_6\" : 0,\n",
    "        \"chronic_7\" : 0,\n",
    "        \"type_food_1\" : 1,\n",
    "        \"type_food_2\" : 1,\n",
    "        \"type_food_3\" : 1,\n",
    "        \"type_food_4\" : 0,\n",
    "        \"type_food_5\" : 0,\n",
    "        \"employed\" : 0,\n",
    "        \"student\" : 1,\n",
    "        \"cuisine_1\" : 0,\n",
    "        \"cuisine_2\" : 1,\n",
    "        \"cuisine_3\" : 1,\n",
    "        \"cuisine_4\" : 0,\n",
    "        \"ind_cuisine_1\" : 0,\n",
    "        \"ind_cuisine_2\" : 0,\n",
    "        \"ind_cuisine_3\" : 1,\n",
    "        \"ind_cuisine_4\" : 1,\n",
    "        \"artist_1\" : 0,\n",
    "        \"artist_2\" : 0,\n",
    "        \"artist_3\" : 1,\n",
    "        \"artist_4\" : 0,\n",
    "        \"artist_5\" : 0,\n",
    "        \"artist_6\" : 1,\n",
    "        \"artist_7\" : 0,\n",
    "        \"artist_8\" : 0,\n",
    "        \"artist_9\" : 1,\n",
    "        \"artist_10\" : 0,\n",
    "        \"artist_11\" : 0,\n",
    "        \"artist_12\" : 0,\n",
    "        \"artist_13\" : 1,\n",
    "        \"artist_14\" : 1,\n",
    "        \"artist_15\" : 0,\n",
    "        \"lang_1\" : 1,\n",
    "        \"lang_2\" : 0,\n",
    "        \"lang_3\" : 1,\n",
    "        \"genre_1\" : 1,\n",
    "        \"genre_2\" : 0,\n",
    "        \"genre_3\" : 1,\n",
    "        \"genre_4\" : 0,\n",
    "        \"genre_5\" : 0,\n",
    "        \"genre_6\" : 0,\n",
    "        \"genre_7\" : 1,\n",
    "        \"genre_8\" : 1,\n",
    "        \"mus_decade_1\" : 1,\n",
    "        \"mus_decade_2\" : 0,\n",
    "        \"mus_decade_3\" : 0,\n",
    "        \"mus_decade_4\" : 1,\n",
    "        \"mus_decade_5\" : 0,\n",
    "        \"mus_decade_6\" : 1,\n",
    "        \"clt_mat_1\" : 0,\n",
    "        \"clt_mat_2\" : 0,\n",
    "        \"clt_mat_3\" : 1,\n",
    "        \"clt_mat_4\" : 1,\n",
    "        \"clt_mat_5\" : 0,\n",
    "        \"color_1\" : 1,\n",
    "        \"color_2\" : 1,\n",
    "        \"color_3\" : 0,\n",
    "        \"color_4\" : 0,\n",
    "        \"color_5\" : 0,\n",
    "        \"color_6\" : 1,\n",
    "        \"color_7\" : 0,\n",
    "        \"color_8\" : 1,\n",
    "        \"color_9\" : 0,\n",
    "        \"color_10\" : 1,\n",
    "        \"hobby_1\" : 0,\n",
    "        \"hobby_2\" : 0,\n",
    "        \"hobby_3\" : 1,\n",
    "        \"hobby_4\" : 0,\n",
    "        \"hobby_5\" : 1,\n",
    "        \"hobby_6\" : 0,\n",
    "        \"hobby_7\" : 1,\n",
    "        \"hobby_8\" : 1,\n",
    "        \"hobby_9\" : 1,\n",
    "        \"hobby_10\" : 0\n",
    "     }"
   ]
  },
  {
   "cell_type": "code",
   "execution_count": 3,
   "metadata": {},
   "outputs": [],
   "source": [
    "sample_data = json.dumps(sample_data)"
   ]
  },
  {
   "cell_type": "code",
   "execution_count": 4,
   "metadata": {},
   "outputs": [],
   "source": [
    "hk_url_food = \"https://decisio01.herokuapp.com\"\n",
    "hk_url_cloth = \"https://decisiocloth.herokuapp.com\"\n",
    "hk_url_music = \"https://decisiomusic.herokuapp.com\"\n",
    "hk_url_place = \"https://decisioplace.herokuapp.com\"\n",
    "hk_url_activity = \"https://decisioactivity.herokuapp.com/\""
   ]
  },
  {
   "cell_type": "code",
   "execution_count": 6,
   "metadata": {},
   "outputs": [],
   "source": [
    "send_request = requests.post(hk_url_activity, sample_data)"
   ]
  },
  {
   "cell_type": "code",
   "execution_count": 7,
   "metadata": {},
   "outputs": [
    {
     "data": {
      "text/plain": [
       "{'results': {'max': 7,\n",
       "  'prob': [[0.0,\n",
       "    0.0,\n",
       "    0.0,\n",
       "    0.14285714285714285,\n",
       "    0.0,\n",
       "    0.14285714285714285,\n",
       "    0.14285714285714285,\n",
       "    0.2857142857142857,\n",
       "    0.0,\n",
       "    0.2857142857142857]]}}"
      ]
     },
     "execution_count": 7,
     "metadata": {},
     "output_type": "execute_result"
    }
   ],
   "source": [
    "send_request.json()"
   ]
  },
  {
   "cell_type": "code",
   "execution_count": null,
   "metadata": {},
   "outputs": [],
   "source": []
  }
 ],
 "metadata": {
  "kernelspec": {
   "display_name": "Python 3",
   "language": "python",
   "name": "python3"
  },
  "language_info": {
   "codemirror_mode": {
    "name": "ipython",
    "version": 3
   },
   "file_extension": ".py",
   "mimetype": "text/x-python",
   "name": "python",
   "nbconvert_exporter": "python",
   "pygments_lexer": "ipython3",
   "version": "3.7.3"
  }
 },
 "nbformat": 4,
 "nbformat_minor": 2
}
