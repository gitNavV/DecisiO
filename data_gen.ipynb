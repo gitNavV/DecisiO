{
 "cells": [
  {
   "cell_type": "code",
   "execution_count": 80,
   "metadata": {},
   "outputs": [],
   "source": [
    "import pandas as pd\n",
    "import random"
   ]
  },
  {
   "cell_type": "code",
   "execution_count": 35,
   "metadata": {},
   "outputs": [],
   "source": [
    "col = \"place food cloth music activity salary expenditure_pm relative_time gender age curr_temprature curr_mood_1 curr_mood_2 curr_mood_3 curr_mood_4 curr_mood_5 curr_mood_6 curr_mood_7 curr_mood_8 weather_1 weather_2 weather_3 weather_4 allergy_1 allergy_2 allergy_3 allergy_4 allergy_5 chronic_1 chronic_2 chronic_3 chronic_4 chronic_5 chronic_6 chronic_7 type_food_1 type_food_2 type_food_3 type_food_4 type_food_5 employed student cuisine_1 cuisine_2 cuisine_3 cuisine_4 ind_cuisine_1 ind_cuisine_2 ind_cuisine_3 ind_cuisine_4 artist_1 artist_2 artist_3 artist_4 artist_5 artist_6 artist_7 artist_8 artist_9 artist_10 artist_11 artist_12 artist_13 artist_14 artist_15 lang_1 lang_2 lang_3 genre_1 genre_2 genre_3 genre_4 genre_5 genre_6 genre_7 genre_8 mus_decade_1 mus_decade_2 mus_decade_3 mus_decade_4 mus_decade_5 mus_decade_6 clt_mat_1 clt_mat_2 clt_mat_3 clt_mat_4 clt_mat_5 color_1 color_2 color_3 color_4 color_5 color_6 color_7 color_8 color_9 color_10 hobby_1 hobby_2 hobby_3 hobby_4 hobby_5 hobby_6 hobby_7 hobby_8 hobby_9 hobby_10\""
   ]
  },
  {
   "cell_type": "code",
   "execution_count": 36,
   "metadata": {},
   "outputs": [],
   "source": [
    "col_list = col.split()"
   ]
  },
  {
   "cell_type": "code",
   "execution_count": 39,
   "metadata": {
    "scrolled": false
   },
   "outputs": [
    {
     "data": {
      "text/plain": [
       "['place',\n",
       " 'food',\n",
       " 'cloth',\n",
       " 'music',\n",
       " 'activity',\n",
       " 'salary',\n",
       " 'expenditure_pm',\n",
       " 'relative_time',\n",
       " 'gender',\n",
       " 'age',\n",
       " 'curr_temprature',\n",
       " 'curr_mood_1',\n",
       " 'curr_mood_2',\n",
       " 'curr_mood_3',\n",
       " 'curr_mood_4',\n",
       " 'curr_mood_5',\n",
       " 'curr_mood_6',\n",
       " 'curr_mood_7',\n",
       " 'curr_mood_8',\n",
       " 'weather_1',\n",
       " 'weather_2',\n",
       " 'weather_3',\n",
       " 'weather_4',\n",
       " 'allergy_1',\n",
       " 'allergy_2',\n",
       " 'allergy_3',\n",
       " 'allergy_4',\n",
       " 'allergy_5',\n",
       " 'chronic_1',\n",
       " 'chronic_2',\n",
       " 'chronic_3',\n",
       " 'chronic_4',\n",
       " 'chronic_5',\n",
       " 'chronic_6',\n",
       " 'chronic_7',\n",
       " 'type_food_1',\n",
       " 'type_food_2',\n",
       " 'type_food_3',\n",
       " 'type_food_4',\n",
       " 'type_food_5',\n",
       " 'employed',\n",
       " 'student',\n",
       " 'cuisine_1',\n",
       " 'cuisine_2',\n",
       " 'cuisine_3',\n",
       " 'cuisine_4',\n",
       " 'ind_cuisine_1',\n",
       " 'ind_cuisine_2',\n",
       " 'ind_cuisine_3',\n",
       " 'ind_cuisine_4',\n",
       " 'artist_1',\n",
       " 'artist_2',\n",
       " 'artist_3',\n",
       " 'artist_4',\n",
       " 'artist_5',\n",
       " 'artist_6',\n",
       " 'artist_7',\n",
       " 'artist_8',\n",
       " 'artist_9',\n",
       " 'artist_10',\n",
       " 'artist_11',\n",
       " 'artist_12',\n",
       " 'artist_13',\n",
       " 'artist_14',\n",
       " 'artist_15',\n",
       " 'lang_1',\n",
       " 'lang_2',\n",
       " 'lang_3',\n",
       " 'genre_1',\n",
       " 'genre_2',\n",
       " 'genre_3',\n",
       " 'genre_4',\n",
       " 'genre_5',\n",
       " 'genre_6',\n",
       " 'genre_7',\n",
       " 'genre_8',\n",
       " 'mus_decade_1',\n",
       " 'mus_decade_2',\n",
       " 'mus_decade_3',\n",
       " 'mus_decade_4',\n",
       " 'mus_decade_5',\n",
       " 'mus_decade_6',\n",
       " 'clt_mat_1',\n",
       " 'clt_mat_2',\n",
       " 'clt_mat_3',\n",
       " 'clt_mat_4',\n",
       " 'clt_mat_5',\n",
       " 'color_1',\n",
       " 'color_2',\n",
       " 'color_3',\n",
       " 'color_4',\n",
       " 'color_5',\n",
       " 'color_6',\n",
       " 'color_7',\n",
       " 'color_8',\n",
       " 'color_9',\n",
       " 'color_10',\n",
       " 'hobby_1',\n",
       " 'hobby_2',\n",
       " 'hobby_3',\n",
       " 'hobby_4',\n",
       " 'hobby_5',\n",
       " 'hobby_6',\n",
       " 'hobby_7',\n",
       " 'hobby_8',\n",
       " 'hobby_9',\n",
       " 'hobby_10']"
      ]
     },
     "execution_count": 39,
     "metadata": {},
     "output_type": "execute_result"
    }
   ],
   "source": [
    "col_list"
   ]
  },
  {
   "cell_type": "code",
   "execution_count": 60,
   "metadata": {},
   "outputs": [],
   "source": [
    "data_len = 5000\n",
    "dic = {}"
   ]
  },
  {
   "cell_type": "code",
   "execution_count": 61,
   "metadata": {},
   "outputs": [],
   "source": [
    "for ind in range(11,107):\n",
    "    lst_temp = []\n",
    "    for i in range(data_len):\n",
    "            lst_temp.append(random.randint(0,1))\n",
    "    dic[col_list[ind]] = lst_temp"
   ]
  },
  {
   "cell_type": "code",
   "execution_count": 62,
   "metadata": {},
   "outputs": [],
   "source": [
    "for ind in range(0,5):\n",
    "    lst_temp = []\n",
    "    for i in range(data_len):\n",
    "            lst_temp.append(random.randint(0,9))\n",
    "    dic[col_list[ind]] = lst_temp"
   ]
  },
  {
   "cell_type": "code",
   "execution_count": 63,
   "metadata": {},
   "outputs": [
    {
     "data": {
      "text/plain": [
       "dict_keys(['curr_mood_1', 'curr_mood_2', 'curr_mood_3', 'curr_mood_4', 'curr_mood_5', 'curr_mood_6', 'curr_mood_7', 'curr_mood_8', 'weather_1', 'weather_2', 'weather_3', 'weather_4', 'allergy_1', 'allergy_2', 'allergy_3', 'allergy_4', 'allergy_5', 'chronic_1', 'chronic_2', 'chronic_3', 'chronic_4', 'chronic_5', 'chronic_6', 'chronic_7', 'type_food_1', 'type_food_2', 'type_food_3', 'type_food_4', 'type_food_5', 'employed', 'student', 'cuisine_1', 'cuisine_2', 'cuisine_3', 'cuisine_4', 'ind_cuisine_1', 'ind_cuisine_2', 'ind_cuisine_3', 'ind_cuisine_4', 'artist_1', 'artist_2', 'artist_3', 'artist_4', 'artist_5', 'artist_6', 'artist_7', 'artist_8', 'artist_9', 'artist_10', 'artist_11', 'artist_12', 'artist_13', 'artist_14', 'artist_15', 'lang_1', 'lang_2', 'lang_3', 'genre_1', 'genre_2', 'genre_3', 'genre_4', 'genre_5', 'genre_6', 'genre_7', 'genre_8', 'mus_decade_1', 'mus_decade_2', 'mus_decade_3', 'mus_decade_4', 'mus_decade_5', 'mus_decade_6', 'clt_mat_1', 'clt_mat_2', 'clt_mat_3', 'clt_mat_4', 'clt_mat_5', 'color_1', 'color_2', 'color_3', 'color_4', 'color_5', 'color_6', 'color_7', 'color_8', 'color_9', 'color_10', 'hobby_1', 'hobby_2', 'hobby_3', 'hobby_4', 'hobby_5', 'hobby_6', 'hobby_7', 'hobby_8', 'hobby_9', 'hobby_10', 'place', 'food', 'cloth', 'music', 'activity'])"
      ]
     },
     "execution_count": 63,
     "metadata": {},
     "output_type": "execute_result"
    }
   ],
   "source": [
    "dic.keys()"
   ]
  },
  {
   "cell_type": "code",
   "execution_count": 67,
   "metadata": {},
   "outputs": [],
   "source": [
    "lst_temp = []\n",
    "for i in range(data_len):\n",
    "        lst_temp.append(random.randint(0,3))\n",
    "dic[col_list[5]] = lst_temp"
   ]
  },
  {
   "cell_type": "code",
   "execution_count": 69,
   "metadata": {},
   "outputs": [],
   "source": [
    "lst_temp = []\n",
    "for i in range(data_len):\n",
    "        lst_temp.append(random.randint(0,4))\n",
    "dic[col_list[6]] = lst_temp"
   ]
  },
  {
   "cell_type": "code",
   "execution_count": 70,
   "metadata": {},
   "outputs": [],
   "source": [
    "lst_temp = []\n",
    "for i in range(data_len):\n",
    "        lst_temp.append(random.randint(0,3))\n",
    "dic[col_list[7]] = lst_temp"
   ]
  },
  {
   "cell_type": "code",
   "execution_count": 72,
   "metadata": {},
   "outputs": [],
   "source": [
    "lst_temp = []\n",
    "for i in range(data_len):\n",
    "        lst_temp.append(random.randint(0,1))\n",
    "dic[col_list[8]] = lst_temp"
   ]
  },
  {
   "cell_type": "code",
   "execution_count": 74,
   "metadata": {},
   "outputs": [],
   "source": [
    "lst_temp = []\n",
    "for i in range(data_len):\n",
    "        lst_temp.append(random.randint(15,60))\n",
    "dic[col_list[9]] = lst_temp"
   ]
  },
  {
   "cell_type": "code",
   "execution_count": 76,
   "metadata": {},
   "outputs": [],
   "source": [
    "lst_temp = []\n",
    "for i in range(data_len):\n",
    "        lst_temp.append(random.uniform(-5,50))\n",
    "dic[col_list[10]] = lst_temp"
   ]
  },
  {
   "cell_type": "code",
   "execution_count": 79,
   "metadata": {},
   "outputs": [
    {
     "data": {
      "text/plain": [
       "107"
      ]
     },
     "execution_count": 79,
     "metadata": {},
     "output_type": "execute_result"
    }
   ],
   "source": [
    "len(dic.keys())"
   ]
  },
  {
   "cell_type": "code",
   "execution_count": 81,
   "metadata": {},
   "outputs": [],
   "source": [
    "data = pd.DataFrame.from_dict(dic)"
   ]
  },
  {
   "cell_type": "code",
   "execution_count": 84,
   "metadata": {},
   "outputs": [],
   "source": [
    "data.to_csv('data.csv')"
   ]
  },
  {
   "cell_type": "code",
   "execution_count": 120,
   "metadata": {},
   "outputs": [],
   "source": [
    "dic_place = {}\n",
    "dic_food = {}\n",
    "dic_cloth = {}\n",
    "dic_music = {}\n",
    "dic_activity = {}"
   ]
  },
  {
   "cell_type": "code",
   "execution_count": 121,
   "metadata": {},
   "outputs": [],
   "source": [
    "cols_place = \"place salary expenditure_pm gender age curr_temprature curr_mood_1 curr_mood_2 curr_mood_3 curr_mood_4 curr_mood_5 curr_mood_6 curr_mood_7 curr_mood_8 weather_1 weather_2 weather_3 weather_4 allergy_1 allergy_2 allergy_3 allergy_4 allergy_5 chronic_1 chronic_2 chronic_3 chronic_4 chronic_5 chronic_6 chronic_7 employed student ind_cuisine_1 ind_cuisine_2 ind_cuisine_3 ind_cuisine_4 hobby_1 hobby_2 hobby_3 hobby_4 hobby_5 hobby_6 hobby_7 hobby_8 hobby_9 hobby_10\""
   ]
  },
  {
   "cell_type": "code",
   "execution_count": 122,
   "metadata": {},
   "outputs": [],
   "source": [
    "cols_place_list = cols_place.split()"
   ]
  },
  {
   "cell_type": "code",
   "execution_count": 123,
   "metadata": {},
   "outputs": [],
   "source": [
    "for co in cols_place_list:\n",
    "    dic_place[co] = dic[co]"
   ]
  },
  {
   "cell_type": "code",
   "execution_count": 124,
   "metadata": {},
   "outputs": [
    {
     "data": {
      "text/plain": [
       "dict_keys(['place', 'salary', 'expenditure_pm', 'gender', 'age', 'curr_temprature', 'curr_mood_1', 'curr_mood_2', 'curr_mood_3', 'curr_mood_4', 'curr_mood_5', 'curr_mood_6', 'curr_mood_7', 'curr_mood_8', 'weather_1', 'weather_2', 'weather_3', 'weather_4', 'allergy_1', 'allergy_2', 'allergy_3', 'allergy_4', 'allergy_5', 'chronic_1', 'chronic_2', 'chronic_3', 'chronic_4', 'chronic_5', 'chronic_6', 'chronic_7', 'employed', 'student', 'ind_cuisine_1', 'ind_cuisine_2', 'ind_cuisine_3', 'ind_cuisine_4', 'hobby_1', 'hobby_2', 'hobby_3', 'hobby_4', 'hobby_5', 'hobby_6', 'hobby_7', 'hobby_8', 'hobby_9', 'hobby_10'])"
      ]
     },
     "execution_count": 124,
     "metadata": {},
     "output_type": "execute_result"
    }
   ],
   "source": [
    "dic_place.keys()"
   ]
  },
  {
   "cell_type": "code",
   "execution_count": 126,
   "metadata": {},
   "outputs": [],
   "source": [
    "data_place = pd.DataFrame.from_dict(dic_place)\n",
    "data_place.to_csv('data_place.csv')"
   ]
  },
  {
   "cell_type": "code",
   "execution_count": 127,
   "metadata": {},
   "outputs": [],
   "source": [
    "cols_food = \"food salary expenditure_pm relative_time gender age curr_temprature curr_mood_1 curr_mood_2 curr_mood_3 curr_mood_4 curr_mood_5 curr_mood_6 curr_mood_7 curr_mood_8 weather_1 weather_2 weather_3 weather_4 allergy_1 allergy_2 allergy_3 allergy_4 allergy_5 chronic_1 chronic_2 chronic_3 chronic_4 chronic_5 chronic_6 chronic_7 type_food_1 type_food_2 type_food_3 type_food_4 type_food_5 employed student cuisine_1 cuisine_2 cuisine_3 cuisine_4 ind_cuisine_1 ind_cuisine_2 ind_cuisine_3 ind_cuisine_4\""
   ]
  },
  {
   "cell_type": "code",
   "execution_count": 128,
   "metadata": {},
   "outputs": [],
   "source": [
    "cols_food_list = cols_food.split()"
   ]
  },
  {
   "cell_type": "code",
   "execution_count": 129,
   "metadata": {},
   "outputs": [],
   "source": [
    "for co in cols_food_list:\n",
    "    dic_food[co] = dic[co]"
   ]
  },
  {
   "cell_type": "code",
   "execution_count": 130,
   "metadata": {},
   "outputs": [
    {
     "data": {
      "text/plain": [
       "dict_keys(['food', 'salary', 'expenditure_pm', 'relative_time', 'gender', 'age', 'curr_temprature', 'curr_mood_1', 'curr_mood_2', 'curr_mood_3', 'curr_mood_4', 'curr_mood_5', 'curr_mood_6', 'curr_mood_7', 'curr_mood_8', 'weather_1', 'weather_2', 'weather_3', 'weather_4', 'allergy_1', 'allergy_2', 'allergy_3', 'allergy_4', 'allergy_5', 'chronic_1', 'chronic_2', 'chronic_3', 'chronic_4', 'chronic_5', 'chronic_6', 'chronic_7', 'type_food_1', 'type_food_2', 'type_food_3', 'type_food_4', 'type_food_5', 'employed', 'student', 'cuisine_1', 'cuisine_2', 'cuisine_3', 'cuisine_4', 'ind_cuisine_1', 'ind_cuisine_2', 'ind_cuisine_3', 'ind_cuisine_4'])"
      ]
     },
     "execution_count": 130,
     "metadata": {},
     "output_type": "execute_result"
    }
   ],
   "source": [
    "dic_food.keys()"
   ]
  },
  {
   "cell_type": "code",
   "execution_count": 131,
   "metadata": {},
   "outputs": [],
   "source": [
    "data_food = pd.DataFrame.from_dict(dic_food)\n",
    "data_food.to_csv('data_food.csv')"
   ]
  },
  {
   "cell_type": "code",
   "execution_count": 132,
   "metadata": {},
   "outputs": [],
   "source": [
    "cols_cloth = \"cloth salary expenditure_pm relative_time gender age curr_temprature curr_mood_1 curr_mood_2 curr_mood_3 curr_mood_4 curr_mood_5 curr_mood_6 curr_mood_7 curr_mood_8 weather_1 weather_2 weather_3 weather_4 employed student artist_1 artist_2 artist_3 artist_4 artist_5 artist_6 artist_7 artist_8 artist_9 artist_10 artist_11 artist_12 artist_13 artist_14 artist_15 clt_mat_1 clt_mat_2 clt_mat_3 clt_mat_4 clt_mat_5 color_1 color_2 color_3 color_4 color_5 color_6 color_7 color_8 color_9 color_10\""
   ]
  },
  {
   "cell_type": "code",
   "execution_count": 133,
   "metadata": {},
   "outputs": [],
   "source": [
    "cols_cloth_list = cols_cloth.split()"
   ]
  },
  {
   "cell_type": "code",
   "execution_count": 134,
   "metadata": {},
   "outputs": [],
   "source": [
    "dic_cloth = {}\n",
    "for co in cols_cloth_list:\n",
    "    dic_cloth[co] = dic[co]"
   ]
  },
  {
   "cell_type": "code",
   "execution_count": 135,
   "metadata": {},
   "outputs": [
    {
     "data": {
      "text/plain": [
       "dict_keys(['cloth', 'salary', 'expenditure_pm', 'relative_time', 'gender', 'age', 'curr_temprature', 'curr_mood_1', 'curr_mood_2', 'curr_mood_3', 'curr_mood_4', 'curr_mood_5', 'curr_mood_6', 'curr_mood_7', 'curr_mood_8', 'weather_1', 'weather_2', 'weather_3', 'weather_4', 'employed', 'student', 'artist_1', 'artist_2', 'artist_3', 'artist_4', 'artist_5', 'artist_6', 'artist_7', 'artist_8', 'artist_9', 'artist_10', 'artist_11', 'artist_12', 'artist_13', 'artist_14', 'artist_15', 'clt_mat_1', 'clt_mat_2', 'clt_mat_3', 'clt_mat_4', 'clt_mat_5', 'color_1', 'color_2', 'color_3', 'color_4', 'color_5', 'color_6', 'color_7', 'color_8', 'color_9', 'color_10'])"
      ]
     },
     "execution_count": 135,
     "metadata": {},
     "output_type": "execute_result"
    }
   ],
   "source": [
    "dic_cloth.keys()"
   ]
  },
  {
   "cell_type": "code",
   "execution_count": 136,
   "metadata": {},
   "outputs": [],
   "source": [
    "data_cloth = pd.DataFrame.from_dict(dic_cloth)\n",
    "data_cloth.to_csv('data_cloth.csv')"
   ]
  },
  {
   "cell_type": "code",
   "execution_count": 137,
   "metadata": {},
   "outputs": [],
   "source": [
    "cols_music = \"music relative_time gender age curr_temprature curr_mood_1 curr_mood_2 curr_mood_3 curr_mood_4 curr_mood_5 curr_mood_6 curr_mood_7 curr_mood_8 weather_1 weather_2 weather_3 weather_4 chronic_1 chronic_2 chronic_3 chronic_4 chronic_5 chronic_6 chronic_7 employed student artist_1 artist_2 artist_3 artist_4 artist_5 artist_6 artist_7 artist_8 artist_9 artist_10 artist_11 artist_12 artist_13 artist_14 artist_15 lang_1 lang_2 lang_3 genre_1 genre_2 genre_3 genre_4 genre_5 genre_6 genre_7 genre_8 mus_decade_1 mus_decade_2 mus_decade_3 mus_decade_4 mus_decade_5 mus_decade_6\""
   ]
  },
  {
   "cell_type": "code",
   "execution_count": 138,
   "metadata": {},
   "outputs": [],
   "source": [
    "cols_music_list = cols_music.split()"
   ]
  },
  {
   "cell_type": "code",
   "execution_count": 139,
   "metadata": {},
   "outputs": [],
   "source": [
    "for co in cols_music_list:\n",
    "    dic_music[co] = dic[co]"
   ]
  },
  {
   "cell_type": "code",
   "execution_count": 140,
   "metadata": {},
   "outputs": [
    {
     "data": {
      "text/plain": [
       "dict_keys(['music', 'relative_time', 'gender', 'age', 'curr_temprature', 'curr_mood_1', 'curr_mood_2', 'curr_mood_3', 'curr_mood_4', 'curr_mood_5', 'curr_mood_6', 'curr_mood_7', 'curr_mood_8', 'weather_1', 'weather_2', 'weather_3', 'weather_4', 'chronic_1', 'chronic_2', 'chronic_3', 'chronic_4', 'chronic_5', 'chronic_6', 'chronic_7', 'employed', 'student', 'artist_1', 'artist_2', 'artist_3', 'artist_4', 'artist_5', 'artist_6', 'artist_7', 'artist_8', 'artist_9', 'artist_10', 'artist_11', 'artist_12', 'artist_13', 'artist_14', 'artist_15', 'lang_1', 'lang_2', 'lang_3', 'genre_1', 'genre_2', 'genre_3', 'genre_4', 'genre_5', 'genre_6', 'genre_7', 'genre_8', 'mus_decade_1', 'mus_decade_2', 'mus_decade_3', 'mus_decade_4', 'mus_decade_5', 'mus_decade_6'])"
      ]
     },
     "execution_count": 140,
     "metadata": {},
     "output_type": "execute_result"
    }
   ],
   "source": [
    "dic_music.keys()"
   ]
  },
  {
   "cell_type": "code",
   "execution_count": 141,
   "metadata": {},
   "outputs": [],
   "source": [
    "data_music = pd.DataFrame.from_dict(dic_music)\n",
    "data_music.to_csv('data_music.csv')"
   ]
  },
  {
   "cell_type": "code",
   "execution_count": 148,
   "metadata": {},
   "outputs": [],
   "source": [
    "cols_activity = \"activity salary expenditure_pm relative_time gender age curr_temprature curr_mood_1 curr_mood_2 curr_mood_3 curr_mood_4 curr_mood_5 curr_mood_6 curr_mood_7 curr_mood_8 weather_1 weather_2 weather_3 weather_4 allergy_1 allergy_2 allergy_3 allergy_4 allergy_5 chronic_1 chronic_2 chronic_3 chronic_4 chronic_5 chronic_6 chronic_7 employed student hobby_1 hobby_2 hobby_3 hobby_4 hobby_5 hobby_6 hobby_7 hobby_8 hobby_9 hobby_10\""
   ]
  },
  {
   "cell_type": "code",
   "execution_count": 149,
   "metadata": {},
   "outputs": [],
   "source": [
    "cols_activity_list = cols_activity.split()"
   ]
  },
  {
   "cell_type": "code",
   "execution_count": 154,
   "metadata": {},
   "outputs": [],
   "source": [
    "dic_activity = {}\n",
    "for co in cols_activity_list:\n",
    "    dic_activity[co] = dic[co]"
   ]
  },
  {
   "cell_type": "code",
   "execution_count": 155,
   "metadata": {},
   "outputs": [
    {
     "data": {
      "text/plain": [
       "dict_keys(['activity', 'salary', 'expenditure_pm', 'relative_time', 'gender', 'age', 'curr_temprature', 'curr_mood_1', 'curr_mood_2', 'curr_mood_3', 'curr_mood_4', 'curr_mood_5', 'curr_mood_6', 'curr_mood_7', 'curr_mood_8', 'weather_1', 'weather_2', 'weather_3', 'weather_4', 'allergy_1', 'allergy_2', 'allergy_3', 'allergy_4', 'allergy_5', 'chronic_1', 'chronic_2', 'chronic_3', 'chronic_4', 'chronic_5', 'chronic_6', 'chronic_7', 'employed', 'student', 'hobby_1', 'hobby_2', 'hobby_3', 'hobby_4', 'hobby_5', 'hobby_6', 'hobby_7', 'hobby_8', 'hobby_9', 'hobby_10'])"
      ]
     },
     "execution_count": 155,
     "metadata": {},
     "output_type": "execute_result"
    }
   ],
   "source": [
    "dic_activity.keys()"
   ]
  },
  {
   "cell_type": "code",
   "execution_count": 156,
   "metadata": {},
   "outputs": [],
   "source": [
    "data_activity = pd.DataFrame.from_dict(dic_activity)\n",
    "data_activity.to_csv('data_activity.csv')"
   ]
  },
  {
   "cell_type": "code",
   "execution_count": null,
   "metadata": {},
   "outputs": [],
   "source": []
  }
 ],
 "metadata": {
  "kernelspec": {
   "display_name": "Python 3",
   "language": "python",
   "name": "python3"
  },
  "language_info": {
   "codemirror_mode": {
    "name": "ipython",
    "version": 3
   },
   "file_extension": ".py",
   "mimetype": "text/x-python",
   "name": "python",
   "nbconvert_exporter": "python",
   "pygments_lexer": "ipython3",
   "version": "3.7.3"
  }
 },
 "nbformat": 4,
 "nbformat_minor": 2
}
